{
 "cells": [
  {
   "cell_type": "markdown",
   "id": "e42f84f2",
   "metadata": {
    "tags": [
     "papermill-error-cell-tag"
    ]
   },
   "source": [
    "<span style=\"color:red; font-family:Helvetica Neue, Helvetica, Arial, sans-serif; font-size:2em;\">An Exception was encountered at '<a href=\"#papermill-error-cell\">In [13]</a>'.</span>"
   ]
  },
  {
   "cell_type": "code",
   "execution_count": 1,
   "id": "e1450631",
   "metadata": {
    "execution": {
     "iopub.execute_input": "2025-06-05T09:39:41.875705Z",
     "iopub.status.busy": "2025-06-05T09:39:41.875705Z",
     "iopub.status.idle": "2025-06-05T09:39:44.628172Z",
     "shell.execute_reply": "2025-06-05T09:39:44.628172Z"
    },
    "papermill": {
     "duration": 2.757899,
     "end_time": "2025-06-05T09:39:44.629601",
     "exception": false,
     "start_time": "2025-06-05T09:39:41.871702",
     "status": "completed"
    },
    "tags": []
   },
   "outputs": [],
   "source": [
    "import pandas as pd\n",
    "import numpy as np\n",
    "\n",
    "from datetime import datetime\n",
    "\n",
    "import seaborn as sns\n",
    "import matplotlib.pyplot as plt\n",
    "%matplotlib inline\n",
    "\n",
    "from sklearn.cluster import KMeans\n",
    "from sklearn.metrics import silhouette_score\n",
    "from sklearn.preprocessing import StandardScaler\n",
    "df_rfm = pd.read_csv('./data/customer_features_cleaned.csv')"
   ]
  },
  {
   "cell_type": "code",
   "execution_count": 2,
   "id": "d91e0022",
   "metadata": {
    "execution": {
     "iopub.execute_input": "2025-06-05T09:39:44.635622Z",
     "iopub.status.busy": "2025-06-05T09:39:44.635622Z",
     "iopub.status.idle": "2025-06-05T09:39:44.647783Z",
     "shell.execute_reply": "2025-06-05T09:39:44.647783Z"
    },
    "papermill": {
     "duration": 0.01616,
     "end_time": "2025-06-05T09:39:44.648789",
     "exception": false,
     "start_time": "2025-06-05T09:39:44.632629",
     "status": "completed"
    },
    "tags": []
   },
   "outputs": [
    {
     "data": {
      "text/html": [
       "<div>\n",
       "<style scoped>\n",
       "    .dataframe tbody tr th:only-of-type {\n",
       "        vertical-align: middle;\n",
       "    }\n",
       "\n",
       "    .dataframe tbody tr th {\n",
       "        vertical-align: top;\n",
       "    }\n",
       "\n",
       "    .dataframe thead th {\n",
       "        text-align: right;\n",
       "    }\n",
       "</style>\n",
       "<table border=\"1\" class=\"dataframe\">\n",
       "  <thead>\n",
       "    <tr style=\"text-align: right;\">\n",
       "      <th></th>\n",
       "      <th>Invoice</th>\n",
       "      <th>StockCode</th>\n",
       "      <th>Description</th>\n",
       "      <th>Quantity</th>\n",
       "      <th>InvoiceDate</th>\n",
       "      <th>Price</th>\n",
       "      <th>Customer ID</th>\n",
       "      <th>Country</th>\n",
       "      <th>TotalPrice</th>\n",
       "      <th>Year</th>\n",
       "      <th>Month</th>\n",
       "      <th>Day</th>\n",
       "      <th>Hour</th>\n",
       "      <th>Weekday</th>\n",
       "      <th>DateOnly</th>\n",
       "      <th>Revenue</th>\n",
       "    </tr>\n",
       "  </thead>\n",
       "  <tbody>\n",
       "    <tr>\n",
       "      <th>0</th>\n",
       "      <td>489434</td>\n",
       "      <td>85048</td>\n",
       "      <td>15CM CHRISTMAS GLASS BALL 20 LIGHTS</td>\n",
       "      <td>12</td>\n",
       "      <td>2009-12-01 07:45:00</td>\n",
       "      <td>6.95</td>\n",
       "      <td>13085.0</td>\n",
       "      <td>United Kingdom</td>\n",
       "      <td>42.075</td>\n",
       "      <td>2009</td>\n",
       "      <td>12</td>\n",
       "      <td>1</td>\n",
       "      <td>7</td>\n",
       "      <td>Tuesday</td>\n",
       "      <td>2009-12-01</td>\n",
       "      <td>83.4</td>\n",
       "    </tr>\n",
       "    <tr>\n",
       "      <th>1</th>\n",
       "      <td>489434</td>\n",
       "      <td>79323P</td>\n",
       "      <td>PINK CHERRY LIGHTS</td>\n",
       "      <td>12</td>\n",
       "      <td>2009-12-01 07:45:00</td>\n",
       "      <td>6.75</td>\n",
       "      <td>13085.0</td>\n",
       "      <td>United Kingdom</td>\n",
       "      <td>42.075</td>\n",
       "      <td>2009</td>\n",
       "      <td>12</td>\n",
       "      <td>1</td>\n",
       "      <td>7</td>\n",
       "      <td>Tuesday</td>\n",
       "      <td>2009-12-01</td>\n",
       "      <td>81.0</td>\n",
       "    </tr>\n",
       "    <tr>\n",
       "      <th>2</th>\n",
       "      <td>489434</td>\n",
       "      <td>79323W</td>\n",
       "      <td>WHITE CHERRY LIGHTS</td>\n",
       "      <td>12</td>\n",
       "      <td>2009-12-01 07:45:00</td>\n",
       "      <td>6.75</td>\n",
       "      <td>13085.0</td>\n",
       "      <td>United Kingdom</td>\n",
       "      <td>42.075</td>\n",
       "      <td>2009</td>\n",
       "      <td>12</td>\n",
       "      <td>1</td>\n",
       "      <td>7</td>\n",
       "      <td>Tuesday</td>\n",
       "      <td>2009-12-01</td>\n",
       "      <td>81.0</td>\n",
       "    </tr>\n",
       "    <tr>\n",
       "      <th>3</th>\n",
       "      <td>489434</td>\n",
       "      <td>22041</td>\n",
       "      <td>RECORD FRAME 7\" SINGLE SIZE</td>\n",
       "      <td>27</td>\n",
       "      <td>2009-12-01 07:45:00</td>\n",
       "      <td>2.10</td>\n",
       "      <td>13085.0</td>\n",
       "      <td>United Kingdom</td>\n",
       "      <td>42.075</td>\n",
       "      <td>2009</td>\n",
       "      <td>12</td>\n",
       "      <td>1</td>\n",
       "      <td>7</td>\n",
       "      <td>Tuesday</td>\n",
       "      <td>2009-12-01</td>\n",
       "      <td>56.7</td>\n",
       "    </tr>\n",
       "    <tr>\n",
       "      <th>4</th>\n",
       "      <td>489434</td>\n",
       "      <td>21232</td>\n",
       "      <td>STRAWBERRY CERAMIC TRINKET BOX</td>\n",
       "      <td>24</td>\n",
       "      <td>2009-12-01 07:45:00</td>\n",
       "      <td>1.25</td>\n",
       "      <td>13085.0</td>\n",
       "      <td>United Kingdom</td>\n",
       "      <td>30.000</td>\n",
       "      <td>2009</td>\n",
       "      <td>12</td>\n",
       "      <td>1</td>\n",
       "      <td>7</td>\n",
       "      <td>Tuesday</td>\n",
       "      <td>2009-12-01</td>\n",
       "      <td>30.0</td>\n",
       "    </tr>\n",
       "  </tbody>\n",
       "</table>\n",
       "</div>"
      ],
      "text/plain": [
       "   Invoice StockCode                          Description  Quantity  \\\n",
       "0   489434     85048  15CM CHRISTMAS GLASS BALL 20 LIGHTS        12   \n",
       "1   489434    79323P                   PINK CHERRY LIGHTS        12   \n",
       "2   489434    79323W                  WHITE CHERRY LIGHTS        12   \n",
       "3   489434     22041         RECORD FRAME 7\" SINGLE SIZE         27   \n",
       "4   489434     21232       STRAWBERRY CERAMIC TRINKET BOX        24   \n",
       "\n",
       "           InvoiceDate  Price  Customer ID         Country  TotalPrice  Year  \\\n",
       "0  2009-12-01 07:45:00   6.95      13085.0  United Kingdom      42.075  2009   \n",
       "1  2009-12-01 07:45:00   6.75      13085.0  United Kingdom      42.075  2009   \n",
       "2  2009-12-01 07:45:00   6.75      13085.0  United Kingdom      42.075  2009   \n",
       "3  2009-12-01 07:45:00   2.10      13085.0  United Kingdom      42.075  2009   \n",
       "4  2009-12-01 07:45:00   1.25      13085.0  United Kingdom      30.000  2009   \n",
       "\n",
       "   Month  Day  Hour  Weekday    DateOnly  Revenue  \n",
       "0     12    1     7  Tuesday  2009-12-01     83.4  \n",
       "1     12    1     7  Tuesday  2009-12-01     81.0  \n",
       "2     12    1     7  Tuesday  2009-12-01     81.0  \n",
       "3     12    1     7  Tuesday  2009-12-01     56.7  \n",
       "4     12    1     7  Tuesday  2009-12-01     30.0  "
      ]
     },
     "execution_count": 2,
     "metadata": {},
     "output_type": "execute_result"
    }
   ],
   "source": [
    "df_rfm.head()"
   ]
  },
  {
   "cell_type": "markdown",
   "id": "95660106",
   "metadata": {
    "papermill": {
     "duration": 0.002262,
     "end_time": "2025-06-05T09:39:44.654465",
     "exception": false,
     "start_time": "2025-06-05T09:39:44.652203",
     "status": "completed"
    },
    "tags": []
   },
   "source": [
    "Chuyển đổi InvoiceDate sang kiểu datetime.date để tính toán độ mới (Recency).\n",
    "\n",
    "max_date dùng để tính Recency: khoảng cách giữa lần mua cuối của khách và ngày cuối cùng trong dữ liệu."
   ]
  },
  {
   "cell_type": "code",
   "execution_count": 3,
   "id": "80bf159b",
   "metadata": {
    "execution": {
     "iopub.execute_input": "2025-06-05T09:39:44.659850Z",
     "iopub.status.busy": "2025-06-05T09:39:44.658848Z",
     "iopub.status.idle": "2025-06-05T09:39:44.895435Z",
     "shell.execute_reply": "2025-06-05T09:39:44.895435Z"
    },
    "papermill": {
     "duration": 0.239789,
     "end_time": "2025-06-05T09:39:44.896441",
     "exception": false,
     "start_time": "2025-06-05T09:39:44.656652",
     "status": "completed"
    },
    "tags": []
   },
   "outputs": [
    {
     "data": {
      "text/plain": [
       "datetime.date(2011, 12, 9)"
      ]
     },
     "execution_count": 3,
     "metadata": {},
     "output_type": "execute_result"
    }
   ],
   "source": [
    "df_rfm['InvoiceDate_notime'] = pd.to_datetime(df_rfm['InvoiceDate']).dt.date\n",
    "max_date = max(df_rfm[\"InvoiceDate_notime\"])\n",
    "max_date"
   ]
  },
  {
   "cell_type": "markdown",
   "id": "95e22fa9",
   "metadata": {
    "papermill": {
     "duration": 0.003625,
     "end_time": "2025-06-05T09:39:44.903066",
     "exception": false,
     "start_time": "2025-06-05T09:39:44.899441",
     "status": "completed"
    },
    "tags": []
   },
   "source": [
    "# 1. RFM"
   ]
  },
  {
   "cell_type": "markdown",
   "id": "5a2d2c74",
   "metadata": {
    "papermill": {
     "duration": 0.001477,
     "end_time": "2025-06-05T09:39:44.906603",
     "exception": false,
     "start_time": "2025-06-05T09:39:44.905126",
     "status": "completed"
    },
    "tags": []
   },
   "source": [
    "## Tính toán các giá trị RFM theo từng khách hàng"
   ]
  },
  {
   "cell_type": "code",
   "execution_count": 4,
   "id": "280319bd",
   "metadata": {
    "execution": {
     "iopub.execute_input": "2025-06-05T09:39:44.912067Z",
     "iopub.status.busy": "2025-06-05T09:39:44.912067Z",
     "iopub.status.idle": "2025-06-05T09:39:45.374903Z",
     "shell.execute_reply": "2025-06-05T09:39:45.374903Z"
    },
    "papermill": {
     "duration": 0.467183,
     "end_time": "2025-06-05T09:39:45.375913",
     "exception": false,
     "start_time": "2025-06-05T09:39:44.908730",
     "status": "completed"
    },
    "tags": []
   },
   "outputs": [
    {
     "name": "stdout",
     "output_type": "stream",
     "text": [
      "<class 'pandas.core.frame.DataFrame'>\n",
      "Index: 5881 entries, 12346.0 to 18287.0\n",
      "Data columns (total 3 columns):\n",
      " #   Column     Non-Null Count  Dtype  \n",
      "---  ------     --------------  -----  \n",
      " 0   monetary   5881 non-null   float64\n",
      " 1   frequency  5881 non-null   int64  \n",
      " 2   recency    5881 non-null   int64  \n",
      "dtypes: float64(1), int64(2)\n",
      "memory usage: 183.8 KB\n",
      "None\n",
      "\n"
     ]
    },
    {
     "data": {
      "text/html": [
       "<div>\n",
       "<style scoped>\n",
       "    .dataframe tbody tr th:only-of-type {\n",
       "        vertical-align: middle;\n",
       "    }\n",
       "\n",
       "    .dataframe tbody tr th {\n",
       "        vertical-align: top;\n",
       "    }\n",
       "\n",
       "    .dataframe thead th {\n",
       "        text-align: right;\n",
       "    }\n",
       "</style>\n",
       "<table border=\"1\" class=\"dataframe\">\n",
       "  <thead>\n",
       "    <tr style=\"text-align: right;\">\n",
       "      <th></th>\n",
       "      <th>monetary</th>\n",
       "      <th>frequency</th>\n",
       "      <th>recency</th>\n",
       "    </tr>\n",
       "    <tr>\n",
       "      <th>Customer ID</th>\n",
       "      <th></th>\n",
       "      <th></th>\n",
       "      <th></th>\n",
       "    </tr>\n",
       "  </thead>\n",
       "  <tbody>\n",
       "    <tr>\n",
       "      <th>12346.0</th>\n",
       "      <td>412.01</td>\n",
       "      <td>12</td>\n",
       "      <td>326</td>\n",
       "    </tr>\n",
       "    <tr>\n",
       "      <th>12347.0</th>\n",
       "      <td>4375.20</td>\n",
       "      <td>8</td>\n",
       "      <td>3</td>\n",
       "    </tr>\n",
       "    <tr>\n",
       "      <th>12348.0</th>\n",
       "      <td>1328.70</td>\n",
       "      <td>5</td>\n",
       "      <td>76</td>\n",
       "    </tr>\n",
       "  </tbody>\n",
       "</table>\n",
       "</div>"
      ],
      "text/plain": [
       "             monetary  frequency  recency\n",
       "Customer ID                              \n",
       "12346.0        412.01         12      326\n",
       "12347.0       4375.20          8        3\n",
       "12348.0       1328.70          5       76"
      ]
     },
     "execution_count": 4,
     "metadata": {},
     "output_type": "execute_result"
    }
   ],
   "source": [
    "rfm = df_rfm.groupby(\"Customer ID\").agg(monetary = (\"TotalPrice\", \"sum\"),\n",
    "                                    frequency = (\"Invoice\", lambda x: x.nunique()),\n",
    "                                    recency = (\"InvoiceDate_notime\", lambda y: max_date - y.max()))\n",
    "rfm[\"recency\"] = rfm[\"recency\"].dt.days.astype(\"int\") + 1\n",
    "print(rfm.info())\n",
    "print(\"\")\n",
    "rfm.head(3)"
   ]
  },
  {
   "cell_type": "code",
   "execution_count": 5,
   "id": "14399d35",
   "metadata": {
    "execution": {
     "iopub.execute_input": "2025-06-05T09:39:45.382296Z",
     "iopub.status.busy": "2025-06-05T09:39:45.382296Z",
     "iopub.status.idle": "2025-06-05T09:39:45.393849Z",
     "shell.execute_reply": "2025-06-05T09:39:45.393342Z"
    },
    "papermill": {
     "duration": 0.015854,
     "end_time": "2025-06-05T09:39:45.394858",
     "exception": false,
     "start_time": "2025-06-05T09:39:45.379004",
     "status": "completed"
    },
    "tags": []
   },
   "outputs": [
    {
     "data": {
      "text/html": [
       "<div>\n",
       "<style scoped>\n",
       "    .dataframe tbody tr th:only-of-type {\n",
       "        vertical-align: middle;\n",
       "    }\n",
       "\n",
       "    .dataframe tbody tr th {\n",
       "        vertical-align: top;\n",
       "    }\n",
       "\n",
       "    .dataframe thead th {\n",
       "        text-align: right;\n",
       "    }\n",
       "</style>\n",
       "<table border=\"1\" class=\"dataframe\">\n",
       "  <thead>\n",
       "    <tr style=\"text-align: right;\">\n",
       "      <th></th>\n",
       "      <th>monetary</th>\n",
       "      <th>frequency</th>\n",
       "      <th>recency</th>\n",
       "    </tr>\n",
       "  </thead>\n",
       "  <tbody>\n",
       "    <tr>\n",
       "      <th>count</th>\n",
       "      <td>5881.000000</td>\n",
       "      <td>5881.000000</td>\n",
       "      <td>5881.000000</td>\n",
       "    </tr>\n",
       "    <tr>\n",
       "      <th>mean</th>\n",
       "      <td>1929.092091</td>\n",
       "      <td>6.287196</td>\n",
       "      <td>201.992858</td>\n",
       "    </tr>\n",
       "    <tr>\n",
       "      <th>std</th>\n",
       "      <td>5315.536459</td>\n",
       "      <td>13.012879</td>\n",
       "      <td>209.489651</td>\n",
       "    </tr>\n",
       "    <tr>\n",
       "      <th>min</th>\n",
       "      <td>0.000000</td>\n",
       "      <td>1.000000</td>\n",
       "      <td>1.000000</td>\n",
       "    </tr>\n",
       "    <tr>\n",
       "      <th>25%</th>\n",
       "      <td>301.900000</td>\n",
       "      <td>1.000000</td>\n",
       "      <td>26.000000</td>\n",
       "    </tr>\n",
       "    <tr>\n",
       "      <th>50%</th>\n",
       "      <td>746.360000</td>\n",
       "      <td>3.000000</td>\n",
       "      <td>96.000000</td>\n",
       "    </tr>\n",
       "    <tr>\n",
       "      <th>75%</th>\n",
       "      <td>1890.595000</td>\n",
       "      <td>7.000000</td>\n",
       "      <td>380.000000</td>\n",
       "    </tr>\n",
       "    <tr>\n",
       "      <th>max</th>\n",
       "      <td>229725.560000</td>\n",
       "      <td>398.000000</td>\n",
       "      <td>739.000000</td>\n",
       "    </tr>\n",
       "  </tbody>\n",
       "</table>\n",
       "</div>"
      ],
      "text/plain": [
       "            monetary    frequency      recency\n",
       "count    5881.000000  5881.000000  5881.000000\n",
       "mean     1929.092091     6.287196   201.992858\n",
       "std      5315.536459    13.012879   209.489651\n",
       "min         0.000000     1.000000     1.000000\n",
       "25%       301.900000     1.000000    26.000000\n",
       "50%       746.360000     3.000000    96.000000\n",
       "75%      1890.595000     7.000000   380.000000\n",
       "max    229725.560000   398.000000   739.000000"
      ]
     },
     "execution_count": 5,
     "metadata": {},
     "output_type": "execute_result"
    }
   ],
   "source": [
    "rfm.describe()"
   ]
  },
  {
   "cell_type": "markdown",
   "id": "2644e399",
   "metadata": {
    "papermill": {
     "duration": 0.003,
     "end_time": "2025-06-05T09:39:45.400855",
     "exception": false,
     "start_time": "2025-06-05T09:39:45.397855",
     "status": "completed"
    },
    "tags": []
   },
   "source": [
    "# Phân nhóm thành các Tứ phân vị (Quartiles) cho từng chỉ số R, F, M"
   ]
  },
  {
   "cell_type": "code",
   "execution_count": 6,
   "id": "ba76c0cf",
   "metadata": {
    "execution": {
     "iopub.execute_input": "2025-06-05T09:39:45.407858Z",
     "iopub.status.busy": "2025-06-05T09:39:45.407858Z",
     "iopub.status.idle": "2025-06-05T09:39:45.420701Z",
     "shell.execute_reply": "2025-06-05T09:39:45.420701Z"
    },
    "papermill": {
     "duration": 0.017861,
     "end_time": "2025-06-05T09:39:45.421718",
     "exception": false,
     "start_time": "2025-06-05T09:39:45.403857",
     "status": "completed"
    },
    "tags": []
   },
   "outputs": [
    {
     "data": {
      "text/html": [
       "<div>\n",
       "<style scoped>\n",
       "    .dataframe tbody tr th:only-of-type {\n",
       "        vertical-align: middle;\n",
       "    }\n",
       "\n",
       "    .dataframe tbody tr th {\n",
       "        vertical-align: top;\n",
       "    }\n",
       "\n",
       "    .dataframe thead th {\n",
       "        text-align: right;\n",
       "    }\n",
       "</style>\n",
       "<table border=\"1\" class=\"dataframe\">\n",
       "  <thead>\n",
       "    <tr style=\"text-align: right;\">\n",
       "      <th></th>\n",
       "      <th>monetary</th>\n",
       "      <th>frequency</th>\n",
       "      <th>recency</th>\n",
       "      <th>Recency_Quartile</th>\n",
       "      <th>Frequency_Quartile</th>\n",
       "      <th>MonetaryValue_Quartile</th>\n",
       "    </tr>\n",
       "    <tr>\n",
       "      <th>Customer ID</th>\n",
       "      <th></th>\n",
       "      <th></th>\n",
       "      <th></th>\n",
       "      <th></th>\n",
       "      <th></th>\n",
       "      <th></th>\n",
       "    </tr>\n",
       "  </thead>\n",
       "  <tbody>\n",
       "    <tr>\n",
       "      <th>12346.0</th>\n",
       "      <td>412.01</td>\n",
       "      <td>12</td>\n",
       "      <td>326</td>\n",
       "      <td>Q3</td>\n",
       "      <td>Q3</td>\n",
       "      <td>Q2</td>\n",
       "    </tr>\n",
       "    <tr>\n",
       "      <th>12347.0</th>\n",
       "      <td>4375.20</td>\n",
       "      <td>8</td>\n",
       "      <td>3</td>\n",
       "      <td>Q1</td>\n",
       "      <td>Q3</td>\n",
       "      <td>Q4</td>\n",
       "    </tr>\n",
       "    <tr>\n",
       "      <th>12348.0</th>\n",
       "      <td>1328.70</td>\n",
       "      <td>5</td>\n",
       "      <td>76</td>\n",
       "      <td>Q2</td>\n",
       "      <td>Q2</td>\n",
       "      <td>Q3</td>\n",
       "    </tr>\n",
       "  </tbody>\n",
       "</table>\n",
       "</div>"
      ],
      "text/plain": [
       "             monetary  frequency  recency Recency_Quartile Frequency_Quartile  \\\n",
       "Customer ID                                                                     \n",
       "12346.0        412.01         12      326               Q3                 Q3   \n",
       "12347.0       4375.20          8        3               Q1                 Q3   \n",
       "12348.0       1328.70          5       76               Q2                 Q2   \n",
       "\n",
       "            MonetaryValue_Quartile  \n",
       "Customer ID                         \n",
       "12346.0                         Q2  \n",
       "12347.0                         Q4  \n",
       "12348.0                         Q3  "
      ]
     },
     "execution_count": 6,
     "metadata": {},
     "output_type": "execute_result"
    }
   ],
   "source": [
    "rfm['Recency_Quartile'] = pd.qcut(rfm['recency'], \n",
    "                                  q=4, labels=['Q1', 'Q2', 'Q3', 'Q4'])\n",
    "rfm['Frequency_Quartile'] = pd.qcut(rfm['frequency'], labels=['Q1', 'Q2', 'Q3'], \n",
    "                                    q=3) # there's only 3 segments as per below\n",
    "rfm['MonetaryValue_Quartile'] = pd.qcut(rfm['monetary'], \n",
    "                                        q=4, labels=['Q1', 'Q2', 'Q3', 'Q4'])\n",
    "\n",
    "rfm.head(3)"
   ]
  },
  {
   "cell_type": "code",
   "execution_count": 7,
   "id": "97b99703",
   "metadata": {
    "execution": {
     "iopub.execute_input": "2025-06-05T09:39:45.430195Z",
     "iopub.status.busy": "2025-06-05T09:39:45.429195Z",
     "iopub.status.idle": "2025-06-05T09:39:45.435201Z",
     "shell.execute_reply": "2025-06-05T09:39:45.435201Z"
    },
    "papermill": {
     "duration": 0.009991,
     "end_time": "2025-06-05T09:39:45.435709",
     "exception": false,
     "start_time": "2025-06-05T09:39:45.425718",
     "status": "completed"
    },
    "tags": []
   },
   "outputs": [
    {
     "data": {
      "text/plain": [
       "['Q3', 'Q2', 'Q1']\n",
       "Categories (3, object): ['Q1' < 'Q2' < 'Q3']"
      ]
     },
     "execution_count": 7,
     "metadata": {},
     "output_type": "execute_result"
    }
   ],
   "source": [
    "rfm['Frequency_Quartile'].unique()\n"
   ]
  },
  {
   "cell_type": "code",
   "execution_count": 8,
   "id": "f85362a9",
   "metadata": {
    "execution": {
     "iopub.execute_input": "2025-06-05T09:39:45.442871Z",
     "iopub.status.busy": "2025-06-05T09:39:45.442871Z",
     "iopub.status.idle": "2025-06-05T09:39:45.652138Z",
     "shell.execute_reply": "2025-06-05T09:39:45.651632Z"
    },
    "papermill": {
     "duration": 0.21327,
     "end_time": "2025-06-05T09:39:45.652138",
     "exception": false,
     "start_time": "2025-06-05T09:39:45.438868",
     "status": "completed"
    },
    "tags": []
   },
   "outputs": [
    {
     "data": {
      "image/png": "[encoded data removed]",
      "text/plain": [
       "<Figure size 800x100 with 1 Axes>"
      ]
     },
     "metadata": {},
     "output_type": "display_data"
    },
    {
     "data": {
      "image/png": "[encoded data removed]",
      "text/plain": [
       "<Figure size 800x100 with 1 Axes>"
      ]
     },
     "metadata": {},
     "output_type": "display_data"
    },
    {
     "data": {
      "image/png": "[encoded data removed]",
      "text/plain": [
       "<Figure size 800x100 with 1 Axes>"
      ]
     },
     "metadata": {},
     "output_type": "display_data"
    }
   ],
   "source": [
    "for i in rfm.columns[:3]:\n",
    "    plt.figure(figsize=(8, 1))\n",
    "    sns.boxplot(data=rfm[i], showfliers=False, orient='h')\n",
    "    plt.title(f'RFM Analysis - Quartiles for \"{i}\"')\n",
    "    plt.xlabel('Value')\n",
    "    plt.ylabel(i)\n",
    "    plt.show()"
   ]
  },
  {
   "cell_type": "markdown",
   "id": "4ea1c268",
   "metadata": {
    "papermill": {
     "duration": 0.003144,
     "end_time": "2025-06-05T09:39:45.659330",
     "exception": false,
     "start_time": "2025-06-05T09:39:45.656186",
     "status": "completed"
    },
    "tags": [],
    "vscode": {
     "languageId": "ini"
    }
   },
   "source": [
    "| Chỉ số    | Ý nghĩa trực quan                                            | Hành động gợi ý                            |\n",
    "| --------- | ------------------------------------------------------------ | ------------------------------------------ |\n",
    "| Monetary  | Nhiều khách chi ít, vài người chi cực nhiều → phân phối lệch | Xem xét tập trung chăm sóc top spender     |\n",
    "| Frequency | Đa số mua ít lần                                             | Khuyến mãi giữ chân, upsell                |\n",
    "| Recency   | Phần lớn khách hàng lâu rồi chưa quay lại                    | Tái kích hoạt (email, SMS, ưu đãi trở lại) |\n"
   ]
  },
  {
   "cell_type": "markdown",
   "id": "43668f4d",
   "metadata": {
    "papermill": {
     "duration": 0.003,
     "end_time": "2025-06-05T09:39:45.665330",
     "exception": false,
     "start_time": "2025-06-05T09:39:45.662330",
     "status": "completed"
    },
    "tags": []
   },
   "source": [
    "# 2. Phân nhóm khách hàng"
   ]
  },
  {
   "cell_type": "code",
   "execution_count": 9,
   "id": "06945978",
   "metadata": {
    "execution": {
     "iopub.execute_input": "2025-06-05T09:39:45.673332Z",
     "iopub.status.busy": "2025-06-05T09:39:45.672331Z",
     "iopub.status.idle": "2025-06-05T09:39:45.683454Z",
     "shell.execute_reply": "2025-06-05T09:39:45.683454Z"
    },
    "papermill": {
     "duration": 0.01713,
     "end_time": "2025-06-05T09:39:45.685460",
     "exception": false,
     "start_time": "2025-06-05T09:39:45.668330",
     "status": "completed"
    },
    "tags": []
   },
   "outputs": [
    {
     "data": {
      "text/html": [
       "<div>\n",
       "<style scoped>\n",
       "    .dataframe tbody tr th:only-of-type {\n",
       "        vertical-align: middle;\n",
       "    }\n",
       "\n",
       "    .dataframe tbody tr th {\n",
       "        vertical-align: top;\n",
       "    }\n",
       "\n",
       "    .dataframe thead th {\n",
       "        text-align: right;\n",
       "    }\n",
       "</style>\n",
       "<table border=\"1\" class=\"dataframe\">\n",
       "  <thead>\n",
       "    <tr style=\"text-align: right;\">\n",
       "      <th></th>\n",
       "      <th>recency</th>\n",
       "      <th>frequency</th>\n",
       "      <th>monetary</th>\n",
       "      <th>Recency_Quartile</th>\n",
       "      <th>Frequency_Quartile</th>\n",
       "      <th>MonetaryValue_Quartile</th>\n",
       "      <th>RFM_Score</th>\n",
       "    </tr>\n",
       "    <tr>\n",
       "      <th>Customer ID</th>\n",
       "      <th></th>\n",
       "      <th></th>\n",
       "      <th></th>\n",
       "      <th></th>\n",
       "      <th></th>\n",
       "      <th></th>\n",
       "      <th></th>\n",
       "    </tr>\n",
       "  </thead>\n",
       "  <tbody>\n",
       "    <tr>\n",
       "      <th>12346.0</th>\n",
       "      <td>326</td>\n",
       "      <td>12</td>\n",
       "      <td>412.01</td>\n",
       "      <td>Q3</td>\n",
       "      <td>Q3</td>\n",
       "      <td>Q2</td>\n",
       "      <td>Q3Q3Q2</td>\n",
       "    </tr>\n",
       "    <tr>\n",
       "      <th>12347.0</th>\n",
       "      <td>3</td>\n",
       "      <td>8</td>\n",
       "      <td>4375.20</td>\n",
       "      <td>Q1</td>\n",
       "      <td>Q3</td>\n",
       "      <td>Q4</td>\n",
       "      <td>Q1Q3Q4</td>\n",
       "    </tr>\n",
       "    <tr>\n",
       "      <th>12348.0</th>\n",
       "      <td>76</td>\n",
       "      <td>5</td>\n",
       "      <td>1328.70</td>\n",
       "      <td>Q2</td>\n",
       "      <td>Q2</td>\n",
       "      <td>Q3</td>\n",
       "      <td>Q2Q2Q3</td>\n",
       "    </tr>\n",
       "    <tr>\n",
       "      <th>12349.0</th>\n",
       "      <td>19</td>\n",
       "      <td>4</td>\n",
       "      <td>3517.19</td>\n",
       "      <td>Q1</td>\n",
       "      <td>Q2</td>\n",
       "      <td>Q4</td>\n",
       "      <td>Q1Q2Q4</td>\n",
       "    </tr>\n",
       "    <tr>\n",
       "      <th>12350.0</th>\n",
       "      <td>311</td>\n",
       "      <td>1</td>\n",
       "      <td>334.40</td>\n",
       "      <td>Q3</td>\n",
       "      <td>Q1</td>\n",
       "      <td>Q2</td>\n",
       "      <td>Q3Q1Q2</td>\n",
       "    </tr>\n",
       "  </tbody>\n",
       "</table>\n",
       "</div>"
      ],
      "text/plain": [
       "             recency  frequency  monetary Recency_Quartile Frequency_Quartile  \\\n",
       "Customer ID                                                                     \n",
       "12346.0          326         12    412.01               Q3                 Q3   \n",
       "12347.0            3          8   4375.20               Q1                 Q3   \n",
       "12348.0           76          5   1328.70               Q2                 Q2   \n",
       "12349.0           19          4   3517.19               Q1                 Q2   \n",
       "12350.0          311          1    334.40               Q3                 Q1   \n",
       "\n",
       "            MonetaryValue_Quartile RFM_Score  \n",
       "Customer ID                                   \n",
       "12346.0                         Q2    Q3Q3Q2  \n",
       "12347.0                         Q4    Q1Q3Q4  \n",
       "12348.0                         Q3    Q2Q2Q3  \n",
       "12349.0                         Q4    Q1Q2Q4  \n",
       "12350.0                         Q2    Q3Q1Q2  "
      ]
     },
     "execution_count": 9,
     "metadata": {},
     "output_type": "execute_result"
    }
   ],
   "source": [
    "# Gộp các điểm để tạo mã phân nhóm RFM\n",
    "rfm['RFM_Score'] = rfm['Recency_Quartile'].astype(str) + \\\n",
    "                   rfm['Frequency_Quartile'].astype(str) + \\\n",
    "                   rfm['MonetaryValue_Quartile'].astype(str)\n",
    "\n",
    "rfm[['recency', 'frequency', 'monetary', 'Recency_Quartile', \n",
    "     'Frequency_Quartile', 'MonetaryValue_Quartile', 'RFM_Score']].head()\n"
   ]
  },
  {
   "cell_type": "code",
   "execution_count": 10,
   "id": "1e903233",
   "metadata": {
    "execution": {
     "iopub.execute_input": "2025-06-05T09:39:45.693827Z",
     "iopub.status.busy": "2025-06-05T09:39:45.692385Z",
     "iopub.status.idle": "2025-06-05T09:39:45.737757Z",
     "shell.execute_reply": "2025-06-05T09:39:45.737757Z"
    },
    "papermill": {
     "duration": 0.050131,
     "end_time": "2025-06-05T09:39:45.738985",
     "exception": false,
     "start_time": "2025-06-05T09:39:45.688854",
     "status": "completed"
    },
    "tags": []
   },
   "outputs": [
    {
     "data": {
      "text/plain": [
       "Customer_Segment\n",
       "Others              1946\n",
       "At Risk             1380\n",
       "Loyal Customers      922\n",
       "Recent Customers     756\n",
       "Champions            732\n",
       "Big Spenders         145\n",
       "Name: count, dtype: int64"
      ]
     },
     "execution_count": 10,
     "metadata": {},
     "output_type": "execute_result"
    }
   ],
   "source": [
    "def segment_customer(row):\n",
    "    if row['RFM_Score'] in ['Q1Q3Q4', 'Q1Q2Q4']:  # Recency tốt, chi nhiều, mua nhiều\n",
    "        return 'Champions'\n",
    "    elif row['Recency_Quartile'] == 'Q1':\n",
    "        return 'Recent Customers'\n",
    "    elif row['Frequency_Quartile'] == 'Q3':\n",
    "        return 'Loyal Customers'\n",
    "    elif row['MonetaryValue_Quartile'] == 'Q4':\n",
    "        return 'Big Spenders'\n",
    "    elif row['Recency_Quartile'] == 'Q4':\n",
    "        return 'At Risk'\n",
    "    else:\n",
    "        return 'Others'\n",
    "\n",
    "rfm['Customer_Segment'] = rfm.apply(segment_customer, axis=1)\n",
    "\n",
    "rfm['Customer_Segment'].value_counts()\n"
   ]
  },
  {
   "cell_type": "markdown",
   "id": "2208dedd",
   "metadata": {
    "papermill": {
     "duration": 0.003507,
     "end_time": "2025-06-05T09:39:45.746499",
     "exception": false,
     "start_time": "2025-06-05T09:39:45.742992",
     "status": "completed"
    },
    "tags": []
   },
   "source": [
    "| Nhóm khách hàng      | Ý nghĩa hành vi                            | Gợi ý hành động marketing                       |\n",
    "| -------------------- | ------------------------------------------ | ----------------------------------------------- |\n",
    "| **Champions**        | Gần đây mua, mua nhiều, chi nhiều          | Giữ chân, tặng voucher VIP                      |\n",
    "| **Loyal Customers**  | Mua lặp lại nhiều                          | Chương trình khách hàng thân thiết              |\n",
    "| **Big Spenders**     | Chi nhiều nhưng không nhất thiết mua nhiều | Ưu đãi độc quyền theo giá trị hóa đơn           |\n",
    "| **Recent Customers** | Mới mua hàng gần đây                       | Gửi email cảm ơn, mời tham gia khảo sát         |\n",
    "| **At Risk**          | Lâu không quay lại                         | Gửi ưu đãi khuyến mãi để kích hoạt lại          |\n",
    "| **Others**           | Hành vi không rõ ràng                      | Quan sát thêm hoặc đẩy sang chiến dịch khảo sát |\n"
   ]
  },
  {
   "cell_type": "code",
   "execution_count": 11,
   "id": "1d0e5ef4",
   "metadata": {
    "execution": {
     "iopub.execute_input": "2025-06-05T09:39:45.753990Z",
     "iopub.status.busy": "2025-06-05T09:39:45.753990Z",
     "iopub.status.idle": "2025-06-05T09:39:46.737444Z",
     "shell.execute_reply": "2025-06-05T09:39:46.737444Z"
    },
    "papermill": {
     "duration": 0.987632,
     "end_time": "2025-06-05T09:39:46.737444",
     "exception": false,
     "start_time": "2025-06-05T09:39:45.749812",
     "status": "completed"
    },
    "tags": []
   },
   "outputs": [
    {
     "name": "stdout",
     "output_type": "stream",
     "text": [
      "<class 'pandas.core.frame.DataFrame'>\n",
      "RangeIndex: 779495 entries, 0 to 779494\n",
      "Data columns (total 10 columns):\n",
      " #   Column        Non-Null Count   Dtype  \n",
      "---  ------        --------------   -----  \n",
      " 0   Invoice       779495 non-null  object \n",
      " 1   StockCode     779495 non-null  object \n",
      " 2   Description   779495 non-null  object \n",
      " 3   Quantity      779495 non-null  int64  \n",
      " 4   InvoiceDate   779495 non-null  object \n",
      " 5   Price         779495 non-null  float64\n",
      " 6   Customer ID   779495 non-null  float64\n",
      " 7   Country       779495 non-null  object \n",
      " 8   TotalPrice    779495 non-null  float64\n",
      " 9   is_cancelled  779495 non-null  int64  \n",
      "dtypes: float64(3), int64(2), object(5)\n",
      "memory usage: 59.5+ MB\n"
     ]
    }
   ],
   "source": [
    "df_c = pd.read_csv('./data/processed_data.csv')\n",
    "\n",
    "# Đảm bảo cột 'Invoice' là kiểu chuỗi để kiểm tra ký tự 'C'\n",
    "df_c['Invoice'] = df_c['Invoice'].astype(str)\n",
    "\n",
    "# Tạo cột is_cancelled: 1 nếu Invoice chứa 'C', ngược lại 0\n",
    "df_c['is_cancelled'] = df_c['Invoice'].str.startswith('C').astype(int)\n",
    "df_c.info()"
   ]
  },
  {
   "cell_type": "code",
   "execution_count": 12,
   "id": "f6fb26a4",
   "metadata": {
    "execution": {
     "iopub.execute_input": "2025-06-05T09:39:46.747154Z",
     "iopub.status.busy": "2025-06-05T09:39:46.747154Z",
     "iopub.status.idle": "2025-06-05T09:39:46.770255Z",
     "shell.execute_reply": "2025-06-05T09:39:46.770255Z"
    },
    "papermill": {
     "duration": 0.03422,
     "end_time": "2025-06-05T09:39:46.771664",
     "exception": false,
     "start_time": "2025-06-05T09:39:46.737444",
     "status": "completed"
    },
    "tags": []
   },
   "outputs": [
    {
     "data": {
      "text/html": [
       "<div>\n",
       "<style scoped>\n",
       "    .dataframe tbody tr th:only-of-type {\n",
       "        vertical-align: middle;\n",
       "    }\n",
       "\n",
       "    .dataframe tbody tr th {\n",
       "        vertical-align: top;\n",
       "    }\n",
       "\n",
       "    .dataframe thead th {\n",
       "        text-align: right;\n",
       "    }\n",
       "</style>\n",
       "<table border=\"1\" class=\"dataframe\">\n",
       "  <thead>\n",
       "    <tr style=\"text-align: right;\">\n",
       "      <th></th>\n",
       "      <th>InvoiceDate</th>\n",
       "      <th>Price</th>\n",
       "      <th>Country</th>\n",
       "      <th>is_cancelled</th>\n",
       "    </tr>\n",
       "  </thead>\n",
       "  <tbody>\n",
       "    <tr>\n",
       "      <th>0</th>\n",
       "      <td>2009-12-01 07:45:00</td>\n",
       "      <td>6.95</td>\n",
       "      <td>United Kingdom</td>\n",
       "      <td>0</td>\n",
       "    </tr>\n",
       "    <tr>\n",
       "      <th>1</th>\n",
       "      <td>2009-12-01 07:45:00</td>\n",
       "      <td>6.75</td>\n",
       "      <td>United Kingdom</td>\n",
       "      <td>0</td>\n",
       "    </tr>\n",
       "    <tr>\n",
       "      <th>2</th>\n",
       "      <td>2009-12-01 07:45:00</td>\n",
       "      <td>6.75</td>\n",
       "      <td>United Kingdom</td>\n",
       "      <td>0</td>\n",
       "    </tr>\n",
       "    <tr>\n",
       "      <th>3</th>\n",
       "      <td>2009-12-01 07:45:00</td>\n",
       "      <td>2.10</td>\n",
       "      <td>United Kingdom</td>\n",
       "      <td>0</td>\n",
       "    </tr>\n",
       "    <tr>\n",
       "      <th>4</th>\n",
       "      <td>2009-12-01 07:45:00</td>\n",
       "      <td>1.25</td>\n",
       "      <td>United Kingdom</td>\n",
       "      <td>0</td>\n",
       "    </tr>\n",
       "  </tbody>\n",
       "</table>\n",
       "</div>"
      ],
      "text/plain": [
       "           InvoiceDate  Price         Country  is_cancelled\n",
       "0  2009-12-01 07:45:00   6.95  United Kingdom             0\n",
       "1  2009-12-01 07:45:00   6.75  United Kingdom             0\n",
       "2  2009-12-01 07:45:00   6.75  United Kingdom             0\n",
       "3  2009-12-01 07:45:00   2.10  United Kingdom             0\n",
       "4  2009-12-01 07:45:00   1.25  United Kingdom             0"
      ]
     },
     "execution_count": 12,
     "metadata": {},
     "output_type": "execute_result"
    }
   ],
   "source": [
    "df_c = df_c.drop(columns=['Invoice', 'StockCode', 'Description', 'Quantity', 'TotalPrice','Customer ID'])\n",
    "df_c.head()"
   ]
  },
  {
   "cell_type": "markdown",
   "id": "c85c6690",
   "metadata": {
    "tags": [
     "papermill-error-cell-tag"
    ]
   },
   "source": [
    "<span id=\"papermill-error-cell\" style=\"color:red; font-family:Helvetica Neue, Helvetica, Arial, sans-serif; font-size:2em;\">Execution using papermill encountered an exception here and stopped:</span>"
   ]
  },
  {
   "cell_type": "code",
   "execution_count": 13,
   "id": "c093ef80",
   "metadata": {
    "execution": {
     "iopub.execute_input": "2025-06-05T09:39:46.779705Z",
     "iopub.status.busy": "2025-06-05T09:39:46.778705Z",
     "iopub.status.idle": "2025-06-05T09:39:52.735446Z",
     "shell.execute_reply": "2025-06-05T09:39:52.735446Z"
    },
    "papermill": {
     "duration": 5.960752,
     "end_time": "2025-06-05T09:39:52.735446",
     "exception": true,
     "start_time": "2025-06-05T09:39:46.774694",
     "status": "failed"
    },
    "tags": []
   },
   "outputs": [
    {
     "ename": "IndexError",
     "evalue": "index 1 is out of bounds for axis 1 with size 1",
     "output_type": "error",
     "traceback": [
      "\u001b[31m---------------------------------------------------------------------------\u001b[39m",
      "\u001b[31mIndexError\u001b[39m                                Traceback (most recent call last)",
      "\u001b[36mCell\u001b[39m\u001b[36m \u001b[39m\u001b[32mIn[13]\u001b[39m\u001b[32m, line 43\u001b[39m\n\u001b[32m     41\u001b[39m \u001b[38;5;66;03m# === 5. Dự đoán & Đánh giá ===\u001b[39;00m\n\u001b[32m     42\u001b[39m y_pred = model.predict(X_test_scaled)\n\u001b[32m---> \u001b[39m\u001b[32m43\u001b[39m y_proba = \u001b[43mmodel\u001b[49m\u001b[43m.\u001b[49m\u001b[43mpredict_proba\u001b[49m\u001b[43m(\u001b[49m\u001b[43mX_test_scaled\u001b[49m\u001b[43m)\u001b[49m\u001b[43m[\u001b[49m\u001b[43m:\u001b[49m\u001b[43m,\u001b[49m\u001b[43m \u001b[49m\u001b[32;43m1\u001b[39;49m\u001b[43m]\u001b[49m  \u001b[38;5;66;03m# Xác suất bị huỷ\u001b[39;00m\n\u001b[32m     45\u001b[39m \u001b[38;5;66;03m# Kết quả\u001b[39;00m\n\u001b[32m     46\u001b[39m \u001b[38;5;28mprint\u001b[39m(\u001b[33m\"\u001b[39m\u001b[33mConfusion Matrix:\u001b[39m\u001b[38;5;130;01m\\n\u001b[39;00m\u001b[33m\"\u001b[39m, confusion_matrix(y_test, y_pred))\n",
      "\u001b[31mIndexError\u001b[39m: index 1 is out of bounds for axis 1 with size 1"
     ]
    }
   ],
   "source": [
    "import pandas as pd\n",
    "from sklearn.model_selection import train_test_split\n",
    "from sklearn.preprocessing import StandardScaler\n",
    "from sklearn.ensemble import RandomForestClassifier\n",
    "from sklearn.metrics import classification_report, confusion_matrix, roc_auc_score\n",
    "\n",
    "# === 1. Tiền xử lý ===\n",
    "df = df_c.copy()\n",
    "\n",
    "# Chuyển InvoiceDate thành datetime\n",
    "df['InvoiceDate'] = pd.to_datetime(df['InvoiceDate'])\n",
    "\n",
    "# Trích xuất các đặc trưng thời gian\n",
    "df['InvoiceHour'] = df['InvoiceDate'].dt.hour\n",
    "df['InvoiceWeekday'] = df['InvoiceDate'].dt.weekday  # 0 = Monday, 6 = Sunday\n",
    "\n",
    "# Mã hóa quốc gia bằng one-hot encoding\n",
    "df = pd.get_dummies(df, columns=['Country'], drop_first=True)\n",
    "\n",
    "# === 2. Tạo tập đặc trưng và nhãn ===\n",
    "features = ['Price', 'InvoiceHour', 'InvoiceWeekday'] + \\\n",
    "           [col for col in df.columns if col.startswith('Country_')]\n",
    "\n",
    "X = df[features]\n",
    "y = df['is_cancelled']\n",
    "\n",
    "# === 3. Tách dữ liệu ===\n",
    "X_train, X_test, y_train, y_test = train_test_split(\n",
    "    X, y, stratify=y, random_state=42, test_size=0.2\n",
    ")\n",
    "\n",
    "# Chuẩn hóa dữ liệu\n",
    "scaler = StandardScaler()\n",
    "X_train_scaled = scaler.fit_transform(X_train)\n",
    "X_test_scaled = scaler.transform(X_test)\n",
    "\n",
    "# === 4. Huấn luyện mô hình ===\n",
    "model = RandomForestClassifier(random_state=42)\n",
    "model.fit(X_train_scaled, y_train)\n",
    "\n",
    "# === 5. Dự đoán & Đánh giá ===\n",
    "y_pred = model.predict(X_test_scaled)\n",
    "y_proba = model.predict_proba(X_test_scaled)[:, 1]  # Xác suất bị huỷ\n",
    "\n",
    "# Kết quả\n",
    "print(\"Confusion Matrix:\\n\", confusion_matrix(y_test, y_pred))\n",
    "print(\"\\nClassification Report:\\n\", classification_report(y_test, y_pred, digits=4))\n",
    "print(\"ROC AUC Score:\", roc_auc_score(y_test, y_proba))\n"
   ]
  }
 ],
 "metadata": {
  "kernelspec": {
   "display_name": "Python 3",
   "language": "python",
   "name": "python3"
  },
  "language_info": {
   "codemirror_mode": {
    "name": "ipython",
    "version": 3
   },
   "file_extension": ".py",
   "mimetype": "text/x-python",
   "name": "python",
   "nbconvert_exporter": "python",
   "pygments_lexer": "ipython3",
   "version": "3.11.9"
  },
  "papermill": {
   "default_parameters": {},
   "duration": 12.80903,
   "end_time": "2025-06-05T09:39:53.399475",
   "environment_variables": {},
   "exception": true,
   "input_path": "5_Customer_Segmentation.ipynb",
   "output_path": "5_Customer_Segmentation.ipynb",
   "parameters": {},
   "start_time": "2025-06-05T09:39:40.590445",
   "version": "2.6.0"
  }
 },
 "nbformat": 4,
 "nbformat_minor": 5
}
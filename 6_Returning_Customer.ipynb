{
 "cells": [
  {
   "metadata": {},
   "cell_type": "markdown",
   "source": "# Các thư viện cần thiết",
   "id": "9a8f23423306e30b"
  },
  {
   "metadata": {
    "ExecuteTime": {
     "end_time": "2025-06-03T07:38:44.029806Z",
     "start_time": "2025-06-03T07:38:44.012493Z"
    }
   },
   "cell_type": "code",
   "source": [
    "import pandas as pd\n",
    "from sklearn.model_selection import train_test_split\n",
    "from sklearn.preprocessing import StandardScaler\n",
    "from sklearn.linear_model import LogisticRegression\n",
    "from sklearn.ensemble import RandomForestClassifier\n",
    "from sklearn.metrics import classification_report, roc_auc_score\n",
    "import matplotlib.pyplot as plt\n",
    "import numpy as np\n",
    "import joblib\n",
    "from tensorflow.keras.models import Sequential\n",
    "from tensorflow.keras.layers import Dense, Dropout\n",
    "from tensorflow.keras.optimizers import Adam\n",
    "from tensorflow.keras.callbacks import EarlyStopping\n",
    "from tensorflow.keras.models import save_model\n"
   ],
   "id": "2a50b07da2b62e6f",
   "outputs": [],
   "execution_count": 15
  },
  {
   "metadata": {},
   "cell_type": "markdown",
   "source": "# 1. Import dữ liệu sau khi đã tổng hợp các đặc trưng",
   "id": "3ef31745f944a87e"
  },
  {
   "metadata": {
    "ExecuteTime": {
     "end_time": "2025-06-03T07:38:44.091834Z",
     "start_time": "2025-06-03T07:38:44.051400Z"
    }
   },
   "cell_type": "code",
   "source": [
    "\n",
    "df_customers = pd.read_csv('./data/customer_features_final.csv', sep = ',')\n",
    "df_customers"
   ],
   "id": "207bfc39891b3e9d",
   "outputs": [
    {
     "data": {
      "text/plain": [
       "      Customer ID  Recency  Frequency  Monetary  UniqueProductCount  \\\n",
       "0         12346.0      326         34    400.94                  27   \n",
       "1         12347.0        2        222   4473.22                 126   \n",
       "2         12348.0       75         51    779.73                  25   \n",
       "3         12349.0       19        175   3347.99                 138   \n",
       "4         12350.0      310         17    301.90                  17   \n",
       "...           ...      ...        ...       ...                 ...   \n",
       "5876      18283.0        4        938   2631.25                 352   \n",
       "5877      18284.0      432         28    374.03                  28   \n",
       "5878      18285.0      661         12    229.55                  12   \n",
       "5879      18286.0      477         67   1162.69                  67   \n",
       "5880      18287.0       43        155   3399.80                 120   \n",
       "\n",
       "      AvgOrderValue  ReturnRate  AvgInterpurchaseTime  \n",
       "0         11.792353         0.0             11.969697  \n",
       "1         20.149640         0.0              1.805430  \n",
       "2         15.288824         0.0              7.240000  \n",
       "3         19.131371         0.0              3.270115  \n",
       "4         17.758824         0.0              0.000000  \n",
       "...             ...         ...                   ...  \n",
       "5876       2.805171         0.0              0.687300  \n",
       "5877      13.358214         0.0              0.000000  \n",
       "5878      19.129167         0.0              0.000000  \n",
       "5879      17.353582         0.0              3.742424  \n",
       "5880      21.934194         0.0              3.409091  \n",
       "\n",
       "[5881 rows x 8 columns]"
      ],
      "text/html": [
       "<div>\n",
       "<style scoped>\n",
       "    .dataframe tbody tr th:only-of-type {\n",
       "        vertical-align: middle;\n",
       "    }\n",
       "\n",
       "    .dataframe tbody tr th {\n",
       "        vertical-align: top;\n",
       "    }\n",
       "\n",
       "    .dataframe thead th {\n",
       "        text-align: right;\n",
       "    }\n",
       "</style>\n",
       "<table border=\"1\" class=\"dataframe\">\n",
       "  <thead>\n",
       "    <tr style=\"text-align: right;\">\n",
       "      <th></th>\n",
       "      <th>Customer ID</th>\n",
       "      <th>Recency</th>\n",
       "      <th>Frequency</th>\n",
       "      <th>Monetary</th>\n",
       "      <th>UniqueProductCount</th>\n",
       "      <th>AvgOrderValue</th>\n",
       "      <th>ReturnRate</th>\n",
       "      <th>AvgInterpurchaseTime</th>\n",
       "    </tr>\n",
       "  </thead>\n",
       "  <tbody>\n",
       "    <tr>\n",
       "      <th>0</th>\n",
       "      <td>12346.0</td>\n",
       "      <td>326</td>\n",
       "      <td>34</td>\n",
       "      <td>400.94</td>\n",
       "      <td>27</td>\n",
       "      <td>11.792353</td>\n",
       "      <td>0.0</td>\n",
       "      <td>11.969697</td>\n",
       "    </tr>\n",
       "    <tr>\n",
       "      <th>1</th>\n",
       "      <td>12347.0</td>\n",
       "      <td>2</td>\n",
       "      <td>222</td>\n",
       "      <td>4473.22</td>\n",
       "      <td>126</td>\n",
       "      <td>20.149640</td>\n",
       "      <td>0.0</td>\n",
       "      <td>1.805430</td>\n",
       "    </tr>\n",
       "    <tr>\n",
       "      <th>2</th>\n",
       "      <td>12348.0</td>\n",
       "      <td>75</td>\n",
       "      <td>51</td>\n",
       "      <td>779.73</td>\n",
       "      <td>25</td>\n",
       "      <td>15.288824</td>\n",
       "      <td>0.0</td>\n",
       "      <td>7.240000</td>\n",
       "    </tr>\n",
       "    <tr>\n",
       "      <th>3</th>\n",
       "      <td>12349.0</td>\n",
       "      <td>19</td>\n",
       "      <td>175</td>\n",
       "      <td>3347.99</td>\n",
       "      <td>138</td>\n",
       "      <td>19.131371</td>\n",
       "      <td>0.0</td>\n",
       "      <td>3.270115</td>\n",
       "    </tr>\n",
       "    <tr>\n",
       "      <th>4</th>\n",
       "      <td>12350.0</td>\n",
       "      <td>310</td>\n",
       "      <td>17</td>\n",
       "      <td>301.90</td>\n",
       "      <td>17</td>\n",
       "      <td>17.758824</td>\n",
       "      <td>0.0</td>\n",
       "      <td>0.000000</td>\n",
       "    </tr>\n",
       "    <tr>\n",
       "      <th>...</th>\n",
       "      <td>...</td>\n",
       "      <td>...</td>\n",
       "      <td>...</td>\n",
       "      <td>...</td>\n",
       "      <td>...</td>\n",
       "      <td>...</td>\n",
       "      <td>...</td>\n",
       "      <td>...</td>\n",
       "    </tr>\n",
       "    <tr>\n",
       "      <th>5876</th>\n",
       "      <td>18283.0</td>\n",
       "      <td>4</td>\n",
       "      <td>938</td>\n",
       "      <td>2631.25</td>\n",
       "      <td>352</td>\n",
       "      <td>2.805171</td>\n",
       "      <td>0.0</td>\n",
       "      <td>0.687300</td>\n",
       "    </tr>\n",
       "    <tr>\n",
       "      <th>5877</th>\n",
       "      <td>18284.0</td>\n",
       "      <td>432</td>\n",
       "      <td>28</td>\n",
       "      <td>374.03</td>\n",
       "      <td>28</td>\n",
       "      <td>13.358214</td>\n",
       "      <td>0.0</td>\n",
       "      <td>0.000000</td>\n",
       "    </tr>\n",
       "    <tr>\n",
       "      <th>5878</th>\n",
       "      <td>18285.0</td>\n",
       "      <td>661</td>\n",
       "      <td>12</td>\n",
       "      <td>229.55</td>\n",
       "      <td>12</td>\n",
       "      <td>19.129167</td>\n",
       "      <td>0.0</td>\n",
       "      <td>0.000000</td>\n",
       "    </tr>\n",
       "    <tr>\n",
       "      <th>5879</th>\n",
       "      <td>18286.0</td>\n",
       "      <td>477</td>\n",
       "      <td>67</td>\n",
       "      <td>1162.69</td>\n",
       "      <td>67</td>\n",
       "      <td>17.353582</td>\n",
       "      <td>0.0</td>\n",
       "      <td>3.742424</td>\n",
       "    </tr>\n",
       "    <tr>\n",
       "      <th>5880</th>\n",
       "      <td>18287.0</td>\n",
       "      <td>43</td>\n",
       "      <td>155</td>\n",
       "      <td>3399.80</td>\n",
       "      <td>120</td>\n",
       "      <td>21.934194</td>\n",
       "      <td>0.0</td>\n",
       "      <td>3.409091</td>\n",
       "    </tr>\n",
       "  </tbody>\n",
       "</table>\n",
       "<p>5881 rows × 8 columns</p>\n",
       "</div>"
      ]
     },
     "execution_count": 16,
     "metadata": {},
     "output_type": "execute_result"
    }
   ],
   "execution_count": 16
  },
  {
   "metadata": {},
   "cell_type": "markdown",
   "source": [
    "# 2. Đánh nhãn cho Returning 1/0 dựa trên Frequency đã tổng hợp\n",
    "\n",
    "Dựa theo thống kê của cột Frequency, việc đánh nhãn sẽ dựa vào tứ phân vị thứ 1 mà quyết định khách hàng có thật sự quay lại hay không\n"
   ],
   "id": "272381f42434eb26"
  },
  {
   "metadata": {
    "ExecuteTime": {
     "end_time": "2025-06-03T07:38:44.187039Z",
     "start_time": "2025-06-03T07:38:44.172479Z"
    }
   },
   "cell_type": "code",
   "source": [
    "threshold = df_customers['Frequency'].quantile(0.25)  # 25% phân vị\n",
    "\n",
    "df_customers['Returning'] = df_customers['Frequency'].apply(lambda x: 1 if x >= threshold else 0)\n",
    "\n",
    "# Xem kết quả\n",
    "df_customers[['Customer ID', 'Frequency', 'Returning']].head()\n"
   ],
   "id": "fbdc1a01704014b7",
   "outputs": [
    {
     "data": {
      "text/plain": [
       "   Customer ID  Frequency  Returning\n",
       "0      12346.0         34          1\n",
       "1      12347.0        222          1\n",
       "2      12348.0         51          1\n",
       "3      12349.0        175          1\n",
       "4      12350.0         17          0"
      ],
      "text/html": [
       "<div>\n",
       "<style scoped>\n",
       "    .dataframe tbody tr th:only-of-type {\n",
       "        vertical-align: middle;\n",
       "    }\n",
       "\n",
       "    .dataframe tbody tr th {\n",
       "        vertical-align: top;\n",
       "    }\n",
       "\n",
       "    .dataframe thead th {\n",
       "        text-align: right;\n",
       "    }\n",
       "</style>\n",
       "<table border=\"1\" class=\"dataframe\">\n",
       "  <thead>\n",
       "    <tr style=\"text-align: right;\">\n",
       "      <th></th>\n",
       "      <th>Customer ID</th>\n",
       "      <th>Frequency</th>\n",
       "      <th>Returning</th>\n",
       "    </tr>\n",
       "  </thead>\n",
       "  <tbody>\n",
       "    <tr>\n",
       "      <th>0</th>\n",
       "      <td>12346.0</td>\n",
       "      <td>34</td>\n",
       "      <td>1</td>\n",
       "    </tr>\n",
       "    <tr>\n",
       "      <th>1</th>\n",
       "      <td>12347.0</td>\n",
       "      <td>222</td>\n",
       "      <td>1</td>\n",
       "    </tr>\n",
       "    <tr>\n",
       "      <th>2</th>\n",
       "      <td>12348.0</td>\n",
       "      <td>51</td>\n",
       "      <td>1</td>\n",
       "    </tr>\n",
       "    <tr>\n",
       "      <th>3</th>\n",
       "      <td>12349.0</td>\n",
       "      <td>175</td>\n",
       "      <td>1</td>\n",
       "    </tr>\n",
       "    <tr>\n",
       "      <th>4</th>\n",
       "      <td>12350.0</td>\n",
       "      <td>17</td>\n",
       "      <td>0</td>\n",
       "    </tr>\n",
       "  </tbody>\n",
       "</table>\n",
       "</div>"
      ]
     },
     "execution_count": 17,
     "metadata": {},
     "output_type": "execute_result"
    }
   ],
   "execution_count": 17
  },
  {
   "metadata": {},
   "cell_type": "markdown",
   "source": "# 3. Chia tập train và test\n",
   "id": "c114fb9bf3603200"
  },
  {
   "metadata": {
    "ExecuteTime": {
     "end_time": "2025-06-03T07:38:44.310875Z",
     "start_time": "2025-06-03T07:38:44.281475Z"
    }
   },
   "cell_type": "code",
   "source": [
    "X = df_customers.drop(columns=['Customer ID', 'Returning'])\n",
    "y = df_customers['Returning']\n",
    "\n",
    "# Chia tập train/test\n",
    "X_train, X_test, y_train, y_test = train_test_split(\n",
    "    X, y, test_size=0.2, stratify=y, random_state=42\n",
    ")\n",
    "# Chuẩn hóa\n",
    "scaler = StandardScaler()\n",
    "X_train_scaled = scaler.fit_transform(X_train)\n",
    "X_test_scaled = scaler.transform(X_test)"
   ],
   "id": "4572ddecb351ed0e",
   "outputs": [],
   "execution_count": 18
  },
  {
   "metadata": {},
   "cell_type": "markdown",
   "source": "# 4. Thuật toán Hồi quy tuyến tính",
   "id": "bc6b3a64d20a70ba"
  },
  {
   "metadata": {
    "ExecuteTime": {
     "end_time": "2025-06-03T07:38:44.481056Z",
     "start_time": "2025-06-03T07:38:44.450999Z"
    }
   },
   "cell_type": "code",
   "source": [
    "lr = LogisticRegression(random_state=42)\n",
    "lr.fit(X_train_scaled, y_train)\n",
    "y_pred_lr = lr.predict(X_test_scaled)\n",
    "y_proba_lr = lr.predict_proba(X_test_scaled)[:, 1]"
   ],
   "id": "4348f3bfbbc2694f",
   "outputs": [],
   "execution_count": 19
  },
  {
   "metadata": {
    "ExecuteTime": {
     "end_time": "2025-06-03T07:38:44.684705Z",
     "start_time": "2025-06-03T07:38:44.655165Z"
    }
   },
   "cell_type": "code",
   "source": [
    "# Đánh giá\n",
    "print(\"Logistic Regression:\")\n",
    "print(classification_report(y_test, y_pred_lr))\n",
    "print(\"ROC AUC:\", roc_auc_score(y_test, y_proba_lr))"
   ],
   "id": "99d930f9270af25f",
   "outputs": [
    {
     "name": "stdout",
     "output_type": "stream",
     "text": [
      "Logistic Regression:\n",
      "              precision    recall  f1-score   support\n",
      "\n",
      "           0       0.96      0.98      0.97       284\n",
      "           1       0.99      0.99      0.99       893\n",
      "\n",
      "    accuracy                           0.99      1177\n",
      "   macro avg       0.98      0.99      0.98      1177\n",
      "weighted avg       0.99      0.99      0.99      1177\n",
      "\n",
      "ROC AUC: 0.9988565209848114\n"
     ]
    }
   ],
   "execution_count": 20
  },
  {
   "metadata": {},
   "cell_type": "markdown",
   "source": "# 5. Thuật toán Random Forest",
   "id": "65ad3d2659e7e743"
  },
  {
   "metadata": {
    "ExecuteTime": {
     "end_time": "2025-06-03T07:38:45.074004Z",
     "start_time": "2025-06-03T07:38:44.796052Z"
    }
   },
   "cell_type": "code",
   "source": [
    "# Random Forest\n",
    "rf = RandomForestClassifier(random_state=42)\n",
    "rf.fit(X_train, y_train)\n",
    "y_pred_rf = rf.predict(X_test)\n",
    "y_proba_rf = rf.predict_proba(X_test)[:, 1]"
   ],
   "id": "8952f93f2f34c044",
   "outputs": [],
   "execution_count": 21
  },
  {
   "metadata": {
    "ExecuteTime": {
     "end_time": "2025-06-03T07:38:45.120583Z",
     "start_time": "2025-06-03T07:38:45.106042Z"
    }
   },
   "cell_type": "code",
   "source": [
    "print(\"\\nRandom Forest:\")\n",
    "print(classification_report(y_test, y_pred_rf))\n",
    "print(\"ROC AUC:\", roc_auc_score(y_test, y_proba_rf))"
   ],
   "id": "6f0f85837f5739e6",
   "outputs": [
    {
     "name": "stdout",
     "output_type": "stream",
     "text": [
      "\n",
      "Random Forest:\n",
      "              precision    recall  f1-score   support\n",
      "\n",
      "           0       1.00      1.00      1.00       284\n",
      "           1       1.00      1.00      1.00       893\n",
      "\n",
      "    accuracy                           1.00      1177\n",
      "   macro avg       1.00      1.00      1.00      1177\n",
      "weighted avg       1.00      1.00      1.00      1177\n",
      "\n",
      "ROC AUC: 1.0\n"
     ]
    }
   ],
   "execution_count": 22
  },
  {
   "metadata": {},
   "cell_type": "markdown",
   "source": [
    "## Nhận xét:\n",
    "- Các chỉ số đánh giá về độ chính xác của 2 mô hình đều cực kỳ tốt, với độ chính xác hơn 99%\n",
    "- Sự chính xác này có khả năng overfit với việc dùng Frequency làm thước đo để đánh nhãn và dùng chính frequency để train."
   ],
   "id": "d3e64d81013aa127"
  },
  {
   "metadata": {},
   "cell_type": "markdown",
   "source": "# 6. Chia tập Train và test với việc loại bỏ tính Frequency đi",
   "id": "db1718d6c04ee2"
  },
  {
   "metadata": {
    "ExecuteTime": {
     "end_time": "2025-06-03T07:38:45.181945Z",
     "start_time": "2025-06-03T07:38:45.152678Z"
    }
   },
   "cell_type": "code",
   "source": [
    "x_new = df_customers.drop(columns=['Customer ID', 'Frequency', 'Returning'])\n",
    "y_new = df_customers['Returning']\n",
    "\n",
    "# Chia tập train/test\n",
    "X_train, X_test, y_train, y_test = train_test_split(\n",
    "    x_new, y_new, test_size=0.2, stratify=y, random_state=42\n",
    ")\n",
    "\n",
    "# Chuẩn hóa đặc trưng\n",
    "scaler = StandardScaler()\n",
    "X_train_scaled = scaler.fit_transform(X_train)\n",
    "X_test_scaled = scaler.transform(X_test)\n"
   ],
   "id": "5fa498b0585372b1",
   "outputs": [],
   "execution_count": 23
  },
  {
   "metadata": {},
   "cell_type": "markdown",
   "source": "# 7. Thực hiện 2 thuật toán và đánh giá độ chính xác của chúng",
   "id": "68d1d9d97be19dab"
  },
  {
   "metadata": {
    "ExecuteTime": {
     "end_time": "2025-06-03T07:38:45.574133Z",
     "start_time": "2025-06-03T07:38:45.246997Z"
    }
   },
   "cell_type": "code",
   "source": [
    "# Logistic Regression\n",
    "lr = LogisticRegression(random_state=42)\n",
    "lr.fit(X_train_scaled, y_train)\n",
    "y_pred_lr = lr.predict(X_test_scaled)\n",
    "y_proba_lr = lr.predict_proba(X_test_scaled)[:, 1]\n",
    "\n",
    "# Random Forest\n",
    "rf = RandomForestClassifier(random_state=42)\n",
    "rf.fit(X_train, y_train)\n",
    "y_pred_rf = rf.predict(X_test)\n",
    "y_proba_rf = rf.predict_proba(X_test)[:, 1]\n",
    "\n",
    "# Đánh giá\n",
    "print(\"Logistic Regression:\")\n",
    "print(classification_report(y_test, y_pred_lr))\n",
    "print(\"ROC AUC:\", roc_auc_score(y_test, y_proba_lr))\n",
    "\n",
    "print(\"\\nRandom Forest:\")\n",
    "print(classification_report(y_test, y_pred_rf))\n",
    "print(\"ROC AUC:\", roc_auc_score(y_test, y_proba_rf))"
   ],
   "id": "df9a72a8bcceaaee",
   "outputs": [
    {
     "name": "stdout",
     "output_type": "stream",
     "text": [
      "Logistic Regression:\n",
      "              precision    recall  f1-score   support\n",
      "\n",
      "           0       0.96      0.98      0.97       284\n",
      "           1       0.99      0.99      0.99       893\n",
      "\n",
      "    accuracy                           0.99      1177\n",
      "   macro avg       0.98      0.99      0.98      1177\n",
      "weighted avg       0.99      0.99      0.99      1177\n",
      "\n",
      "ROC AUC: 0.9985607936532971\n",
      "\n",
      "Random Forest:\n",
      "              precision    recall  f1-score   support\n",
      "\n",
      "           0       0.98      0.99      0.99       284\n",
      "           1       1.00      0.99      1.00       893\n",
      "\n",
      "    accuracy                           0.99      1177\n",
      "   macro avg       0.99      0.99      0.99      1177\n",
      "weighted avg       0.99      0.99      0.99      1177\n",
      "\n",
      "ROC AUC: 0.9997634181347885\n"
     ]
    }
   ],
   "execution_count": 24
  },
  {
   "metadata": {},
   "cell_type": "markdown",
   "source": [
    "## Nhận xét:\n",
    "- Sau khi bỏ đặc trưng Frequency, độ chính xác của mô hình có sự giảm nhẹ, nhưng vẫn đạt trên 99%.\n",
    "- Cả 2 mô hình đều hoạt động rất tốt"
   ],
   "id": "6eb57f83de46b055"
  },
  {
   "metadata": {},
   "cell_type": "markdown",
   "source": "# 8. Trực quan hoá trọng số của các đặc trưng trong hồi quy tuyến tính",
   "id": "af41c8aa9e1eab8e"
  },
  {
   "metadata": {
    "ExecuteTime": {
     "end_time": "2025-06-03T07:38:45.682885Z",
     "start_time": "2025-06-03T07:38:45.584332Z"
    }
   },
   "cell_type": "code",
   "source": [
    "# Lấy tên các đặc trưng (đã loại bỏ Frequency)\n",
    "feature_names = x_new.columns\n",
    "\n",
    "# Lấy trọng số từ mô hình Logistic Regression\n",
    "coefficients = lr.coef_[0]\n",
    "\n",
    "# Tạo DataFrame để dễ dàng trực quan hóa\n",
    "feature_importance = pd.DataFrame({'Feature': feature_names, 'Importance': coefficients})\n",
    "feature_importance = feature_importance.sort_values(by='Importance', ascending=False)\n",
    "\n",
    "# Trực quan hóa\n",
    "plt.figure(figsize=(10, 6))\n",
    "plt.barh(feature_importance['Feature'], feature_importance['Importance'])\n",
    "plt.xlabel('Coefficient Value')\n",
    "plt.title('Feature Importance in Logistic Regression')\n",
    "plt.gca().invert_yaxis()  # Đảo ngược thứ tự để hiển thị từ lớn đến nhỏ\n",
    "plt.show()"
   ],
   "id": "54592f3619b675da",
   "outputs": [
    {
     "data": {
      "text/plain": [
       "<Figure size 1000x600 with 1 Axes>"
      ],
      "image/png": "[encoded data removed]"
     },
     "metadata": {},
     "output_type": "display_data"
    }
   ],
   "execution_count": 25
  },
  {
   "metadata": {},
   "cell_type": "markdown",
   "source": "# 9. Xây dựng mô hình ANN để dự đoán",
   "id": "62c4b450a4486568"
  },
  {
   "metadata": {
    "ExecuteTime": {
     "end_time": "2025-06-03T07:38:55.374331Z",
     "start_time": "2025-06-03T07:38:45.716470Z"
    }
   },
   "cell_type": "code",
   "source": [
    "# Xây dựng mô hình ANN\n",
    "model = Sequential([\n",
    "    Dense(64, activation='relu', input_shape=(X_train_scaled.shape[1],)),\n",
    "    Dropout(0.2),\n",
    "    Dense(32, activation='relu'),\n",
    "    Dropout(0.2),\n",
    "    Dense(1, activation='sigmoid')\n",
    "])\n",
    "\n",
    "# Biên dịch mô hình\n",
    "model.compile(optimizer=Adam(learning_rate=0.001),\n",
    "              loss='binary_crossentropy',\n",
    "              metrics=['accuracy'])\n",
    "\n",
    "# Early stopping để tránh overfitting\n",
    "early_stopping = EarlyStopping(monitor='val_loss', patience=5, restore_best_weights=True)\n",
    "\n",
    "# Huấn luyện mô hình\n",
    "history = model.fit(X_train_scaled, y_train,\n",
    "                    epochs=50,\n",
    "                    batch_size=32,\n",
    "                    validation_split=0.2,\n",
    "                    callbacks=[early_stopping],\n",
    "                    verbose=1)\n",
    "\n",
    "# Đánh giá mô hình trên tập test\n",
    "loss, accuracy = model.evaluate(X_test_scaled, y_test, verbose=0)\n",
    "print(f\"\\nANN Test Accuracy: {accuracy:.4f}\")\n",
    "\n",
    "# Dự đoán xác suất\n",
    "y_proba_ann = model.predict(X_test_scaled).flatten()\n",
    "\n",
    "# Tính ROC AUC\n",
    "print(f\"ANN ROC AUC: {roc_auc_score(y_test, y_proba_ann):.4f}\")\n",
    "\n",
    "# Vẽ đồ thị quá trình huấn luyện\n",
    "plt.figure(figsize=(12, 4))\n",
    "plt.subplot(1, 2, 1)\n",
    "plt.plot(history.history['accuracy'], label='Train Accuracy')\n",
    "plt.plot(history.history['val_accuracy'], label='Validation Accuracy')\n",
    "plt.title('Model Accuracy')\n",
    "plt.ylabel('Accuracy')\n",
    "plt.xlabel('Epoch')\n",
    "plt.legend()\n",
    "\n",
    "plt.subplot(1, 2, 2)\n",
    "plt.plot(history.history['loss'], label='Train Loss')\n",
    "plt.plot(history.history['val_loss'], label='Validation Loss')\n",
    "plt.title('Model Loss')\n",
    "plt.ylabel('Loss')\n",
    "plt.xlabel('Epoch')\n",
    "plt.legend()\n",
    "plt.show()"
   ],
   "id": "5be5ecc595fbd0f6",
   "outputs": [
    {
     "name": "stdout",
     "output_type": "stream",
     "text": [
      "Epoch 1/50\n"
     ]
    },
    {
     "name": "stderr",
     "output_type": "stream",
     "text": [
      "C:\\Users\\Wall Liu\\AppData\\Local\\Programs\\Python\\Python310\\lib\\site-packages\\keras\\src\\layers\\core\\dense.py:93: UserWarning: Do not pass an `input_shape`/`input_dim` argument to a layer. When using Sequential models, prefer using an `Input(shape)` object as the first layer in the model instead.\n",
      "  super().__init__(activity_regularizer=activity_regularizer, **kwargs)\n"
     ]
    },
    {
     "name": "stdout",
     "output_type": "stream",
     "text": [
      "\u001B[1m118/118\u001B[0m \u001B[32m━━━━━━━━━━━━━━━━━━━━\u001B[0m\u001B[37m\u001B[0m \u001B[1m1s\u001B[0m 3ms/step - accuracy: 0.7802 - loss: 0.5400 - val_accuracy: 0.8831 - val_loss: 0.3230\n",
      "Epoch 2/50\n",
      "\u001B[1m118/118\u001B[0m \u001B[32m━━━━━━━━━━━━━━━━━━━━\u001B[0m\u001B[37m\u001B[0m \u001B[1m0s\u001B[0m 2ms/step - accuracy: 0.8644 - loss: 0.3207 - val_accuracy: 0.9267 - val_loss: 0.2258\n",
      "Epoch 3/50\n",
      "\u001B[1m118/118\u001B[0m \u001B[32m━━━━━━━━━━━━━━━━━━━━\u001B[0m\u001B[37m\u001B[0m \u001B[1m0s\u001B[0m 2ms/step - accuracy: 0.8971 - loss: 0.2475 - val_accuracy: 0.9330 - val_loss: 0.1700\n",
      "Epoch 4/50\n",
      "\u001B[1m118/118\u001B[0m \u001B[32m━━━━━━━━━━━━━━━━━━━━\u001B[0m\u001B[37m\u001B[0m \u001B[1m0s\u001B[0m 2ms/step - accuracy: 0.9211 - loss: 0.1919 - val_accuracy: 0.9501 - val_loss: 0.1373\n",
      "Epoch 5/50\n",
      "\u001B[1m118/118\u001B[0m \u001B[32m━━━━━━━━━━━━━━━━━━━━\u001B[0m\u001B[37m\u001B[0m \u001B[1m0s\u001B[0m 2ms/step - accuracy: 0.9262 - loss: 0.1680 - val_accuracy: 0.9543 - val_loss: 0.1179\n",
      "Epoch 6/50\n",
      "\u001B[1m118/118\u001B[0m \u001B[32m━━━━━━━━━━━━━━━━━━━━\u001B[0m\u001B[37m\u001B[0m \u001B[1m0s\u001B[0m 2ms/step - accuracy: 0.9319 - loss: 0.1526 - val_accuracy: 0.9564 - val_loss: 0.1060\n",
      "Epoch 7/50\n",
      "\u001B[1m118/118\u001B[0m \u001B[32m━━━━━━━━━━━━━━━━━━━━\u001B[0m\u001B[37m\u001B[0m \u001B[1m0s\u001B[0m 2ms/step - accuracy: 0.9523 - loss: 0.1244 - val_accuracy: 0.9660 - val_loss: 0.0926\n",
      "Epoch 8/50\n",
      "\u001B[1m118/118\u001B[0m \u001B[32m━━━━━━━━━━━━━━━━━━━━\u001B[0m\u001B[37m\u001B[0m \u001B[1m0s\u001B[0m 2ms/step - accuracy: 0.9538 - loss: 0.1125 - val_accuracy: 0.9745 - val_loss: 0.0842\n",
      "Epoch 9/50\n",
      "\u001B[1m118/118\u001B[0m \u001B[32m━━━━━━━━━━━━━━━━━━━━\u001B[0m\u001B[37m\u001B[0m \u001B[1m0s\u001B[0m 2ms/step - accuracy: 0.9546 - loss: 0.1053 - val_accuracy: 0.9639 - val_loss: 0.0821\n",
      "Epoch 10/50\n",
      "\u001B[1m118/118\u001B[0m \u001B[32m━━━━━━━━━━━━━━━━━━━━\u001B[0m\u001B[37m\u001B[0m \u001B[1m0s\u001B[0m 2ms/step - accuracy: 0.9620 - loss: 0.0978 - val_accuracy: 0.9798 - val_loss: 0.0729\n",
      "Epoch 11/50\n",
      "\u001B[1m118/118\u001B[0m \u001B[32m━━━━━━━━━━━━━━━━━━━━\u001B[0m\u001B[37m\u001B[0m \u001B[1m0s\u001B[0m 2ms/step - accuracy: 0.9658 - loss: 0.0844 - val_accuracy: 0.9745 - val_loss: 0.0691\n",
      "Epoch 12/50\n",
      "\u001B[1m118/118\u001B[0m \u001B[32m━━━━━━━━━━━━━━━━━━━━\u001B[0m\u001B[37m\u001B[0m \u001B[1m0s\u001B[0m 2ms/step - accuracy: 0.9671 - loss: 0.0861 - val_accuracy: 0.9777 - val_loss: 0.0661\n",
      "Epoch 13/50\n",
      "\u001B[1m118/118\u001B[0m \u001B[32m━━━━━━━━━━━━━━━━━━━━\u001B[0m\u001B[37m\u001B[0m \u001B[1m0s\u001B[0m 2ms/step - accuracy: 0.9627 - loss: 0.0834 - val_accuracy: 0.9798 - val_loss: 0.0612\n",
      "Epoch 14/50\n",
      "\u001B[1m118/118\u001B[0m \u001B[32m━━━━━━━━━━━━━━━━━━━━\u001B[0m\u001B[37m\u001B[0m \u001B[1m0s\u001B[0m 2ms/step - accuracy: 0.9726 - loss: 0.0711 - val_accuracy: 0.9819 - val_loss: 0.0654\n",
      "Epoch 15/50\n",
      "\u001B[1m118/118\u001B[0m \u001B[32m━━━━━━━━━━━━━━━━━━━━\u001B[0m\u001B[37m\u001B[0m \u001B[1m0s\u001B[0m 2ms/step - accuracy: 0.9754 - loss: 0.0652 - val_accuracy: 0.9777 - val_loss: 0.0604\n",
      "Epoch 16/50\n",
      "\u001B[1m118/118\u001B[0m \u001B[32m━━━━━━━━━━━━━━━━━━━━\u001B[0m\u001B[37m\u001B[0m \u001B[1m0s\u001B[0m 2ms/step - accuracy: 0.9632 - loss: 0.0802 - val_accuracy: 0.9724 - val_loss: 0.0620\n",
      "Epoch 17/50\n",
      "\u001B[1m118/118\u001B[0m \u001B[32m━━━━━━━━━━━━━━━━━━━━\u001B[0m\u001B[37m\u001B[0m \u001B[1m0s\u001B[0m 2ms/step - accuracy: 0.9639 - loss: 0.0742 - val_accuracy: 0.9809 - val_loss: 0.0542\n",
      "Epoch 18/50\n",
      "\u001B[1m118/118\u001B[0m \u001B[32m━━━━━━━━━━━━━━━━━━━━\u001B[0m\u001B[37m\u001B[0m \u001B[1m0s\u001B[0m 2ms/step - accuracy: 0.9697 - loss: 0.0675 - val_accuracy: 0.9724 - val_loss: 0.0595\n",
      "Epoch 19/50\n",
      "\u001B[1m118/118\u001B[0m \u001B[32m━━━━━━━━━━━━━━━━━━━━\u001B[0m\u001B[37m\u001B[0m \u001B[1m0s\u001B[0m 2ms/step - accuracy: 0.9757 - loss: 0.0576 - val_accuracy: 0.9745 - val_loss: 0.0573\n",
      "Epoch 20/50\n",
      "\u001B[1m118/118\u001B[0m \u001B[32m━━━━━━━━━━━━━━━━━━━━\u001B[0m\u001B[37m\u001B[0m \u001B[1m0s\u001B[0m 2ms/step - accuracy: 0.9790 - loss: 0.0593 - val_accuracy: 0.9766 - val_loss: 0.0534\n",
      "Epoch 21/50\n",
      "\u001B[1m118/118\u001B[0m \u001B[32m━━━━━━━━━━━━━━━━━━━━\u001B[0m\u001B[37m\u001B[0m \u001B[1m0s\u001B[0m 2ms/step - accuracy: 0.9805 - loss: 0.0526 - val_accuracy: 0.9809 - val_loss: 0.0489\n",
      "Epoch 22/50\n",
      "\u001B[1m118/118\u001B[0m \u001B[32m━━━━━━━━━━━━━━━━━━━━\u001B[0m\u001B[37m\u001B[0m \u001B[1m0s\u001B[0m 2ms/step - accuracy: 0.9789 - loss: 0.0516 - val_accuracy: 0.9766 - val_loss: 0.0569\n",
      "Epoch 23/50\n",
      "\u001B[1m118/118\u001B[0m \u001B[32m━━━━━━━━━━━━━━━━━━━━\u001B[0m\u001B[37m\u001B[0m \u001B[1m0s\u001B[0m 2ms/step - accuracy: 0.9753 - loss: 0.0550 - val_accuracy: 0.9766 - val_loss: 0.0505\n",
      "Epoch 24/50\n",
      "\u001B[1m118/118\u001B[0m \u001B[32m━━━━━━━━━━━━━━━━━━━━\u001B[0m\u001B[37m\u001B[0m \u001B[1m0s\u001B[0m 2ms/step - accuracy: 0.9770 - loss: 0.0526 - val_accuracy: 0.9766 - val_loss: 0.0515\n",
      "Epoch 25/50\n",
      "\u001B[1m118/118\u001B[0m \u001B[32m━━━━━━━━━━━━━━━━━━━━\u001B[0m\u001B[37m\u001B[0m \u001B[1m0s\u001B[0m 2ms/step - accuracy: 0.9828 - loss: 0.0510 - val_accuracy: 0.9777 - val_loss: 0.0501\n",
      "Epoch 26/50\n",
      "\u001B[1m118/118\u001B[0m \u001B[32m━━━━━━━━━━━━━━━━━━━━\u001B[0m\u001B[37m\u001B[0m \u001B[1m0s\u001B[0m 2ms/step - accuracy: 0.9782 - loss: 0.0497 - val_accuracy: 0.9819 - val_loss: 0.0468\n",
      "Epoch 27/50\n",
      "\u001B[1m118/118\u001B[0m \u001B[32m━━━━━━━━━━━━━━━━━━━━\u001B[0m\u001B[37m\u001B[0m \u001B[1m0s\u001B[0m 2ms/step - accuracy: 0.9808 - loss: 0.0514 - val_accuracy: 0.9756 - val_loss: 0.0488\n",
      "Epoch 28/50\n",
      "\u001B[1m118/118\u001B[0m \u001B[32m━━━━━━━━━━━━━━━━━━━━\u001B[0m\u001B[37m\u001B[0m \u001B[1m0s\u001B[0m 2ms/step - accuracy: 0.9822 - loss: 0.0453 - val_accuracy: 0.9777 - val_loss: 0.0523\n",
      "Epoch 29/50\n",
      "\u001B[1m118/118\u001B[0m \u001B[32m━━━━━━━━━━━━━━━━━━━━\u001B[0m\u001B[37m\u001B[0m \u001B[1m0s\u001B[0m 2ms/step - accuracy: 0.9796 - loss: 0.0470 - val_accuracy: 0.9830 - val_loss: 0.0423\n",
      "Epoch 30/50\n",
      "\u001B[1m118/118\u001B[0m \u001B[32m━━━━━━━━━━━━━━━━━━━━\u001B[0m\u001B[37m\u001B[0m \u001B[1m0s\u001B[0m 2ms/step - accuracy: 0.9775 - loss: 0.0500 - val_accuracy: 0.9851 - val_loss: 0.0431\n",
      "Epoch 31/50\n",
      "\u001B[1m118/118\u001B[0m \u001B[32m━━━━━━━━━━━━━━━━━━━━\u001B[0m\u001B[37m\u001B[0m \u001B[1m0s\u001B[0m 2ms/step - accuracy: 0.9823 - loss: 0.0451 - val_accuracy: 0.9787 - val_loss: 0.0473\n",
      "Epoch 32/50\n",
      "\u001B[1m118/118\u001B[0m \u001B[32m━━━━━━━━━━━━━━━━━━━━\u001B[0m\u001B[37m\u001B[0m \u001B[1m0s\u001B[0m 2ms/step - accuracy: 0.9768 - loss: 0.0536 - val_accuracy: 0.9777 - val_loss: 0.0457\n",
      "Epoch 33/50\n",
      "\u001B[1m118/118\u001B[0m \u001B[32m━━━━━━━━━━━━━━━━━━━━\u001B[0m\u001B[37m\u001B[0m \u001B[1m0s\u001B[0m 2ms/step - accuracy: 0.9825 - loss: 0.0412 - val_accuracy: 0.9745 - val_loss: 0.0593\n",
      "Epoch 34/50\n",
      "\u001B[1m118/118\u001B[0m \u001B[32m━━━━━━━━━━━━━━━━━━━━\u001B[0m\u001B[37m\u001B[0m \u001B[1m0s\u001B[0m 2ms/step - accuracy: 0.9834 - loss: 0.0485 - val_accuracy: 0.9777 - val_loss: 0.0467\n",
      "\n",
      "ANN Test Accuracy: 0.9958\n",
      "\u001B[1m37/37\u001B[0m \u001B[32m━━━━━━━━━━━━━━━━━━━━\u001B[0m\u001B[37m\u001B[0m \u001B[1m0s\u001B[0m 1ms/step \n",
      "ANN ROC AUC: 0.9997\n"
     ]
    },
    {
     "data": {
      "text/plain": [
       "<Figure size 1200x400 with 2 Axes>"
      ],
      "image/png": "[encoded data removed]"
     },
     "metadata": {},
     "output_type": "display_data"
    }
   ],
   "execution_count": 26
  },
  {
   "metadata": {},
   "cell_type": "markdown",
   "source": [
    "# Nhận xét\n",
    "## Về quá trình huấn luyện:\n",
    "- Mô hình chạy được 39/50 epoch rồi dừng\n",
    "- Loss và Accuracy hội tụ ở những epoch cuối\n",
    "## Về độ chính xác của mô hình\n",
    "- Train và Validation đề rất cao ~0.98\n",
    "- Nhận định không có overfitting\n",
    "## Về hàm loss\n",
    "- Train và Validation đề cực thấp <0.05\n",
    "- Nhận định không có underfitting\n",
    "## Tổng quan\n",
    "- Kết quả nhìn chung là tốt, nhưng lại quá tốt, cần kiểm tra thêm về tập dữ liệu.\n",
    "- Một phần nguyên nhân do đặc trưng Frequency chứa thông tin dữ đoán, nên có sự khác biệt quá rõ ràng"
   ],
   "id": "2f31caa8c74ce88d"
  },
  {
   "metadata": {},
   "cell_type": "markdown",
   "source": "# 10. Kiểm tra kết quả quá hoàn hảo có đúng hay không",
   "id": "2b44d08b46a79a31"
  },
  {
   "metadata": {
    "ExecuteTime": {
     "end_time": "2025-06-03T07:38:55.436069Z",
     "start_time": "2025-06-03T07:38:55.422535Z"
    }
   },
   "cell_type": "code",
   "source": [
    "# Kiểm tra leakage dữ liệu\n",
    "assert len(set(X_train.index) & set(X_test.index)) == 0, \"Data Leakage Detected!\"\n",
    "\n",
    "# Kiểm tra tính cân bằng\n",
    "print(\"Train class ratio:\", np.mean(y_train))\n",
    "print(\"Test class ratio:\", np.mean(y_test))"
   ],
   "id": "a0d94d0325d7a13b",
   "outputs": [
    {
     "name": "stdout",
     "output_type": "stream",
     "text": [
      "Train class ratio: 0.7585034013605442\n",
      "Test class ratio: 0.7587085811384877\n"
     ]
    }
   ],
   "execution_count": 27
  },
  {
   "metadata": {
    "ExecuteTime": {
     "end_time": "2025-06-03T07:38:55.514139Z",
     "start_time": "2025-06-03T07:38:55.488691Z"
    }
   },
   "cell_type": "code",
   "source": [
    "# Thử nghiệm với model đơn giản nhất\n",
    "from sklearn.linear_model import LogisticRegression\n",
    "lr = LogisticRegression().fit(X_train_scaled, y_train)\n",
    "print(\"LR Test Accuracy:\", lr.score(X_test_scaled, y_test))\n",
    "\n",
    "# Nếu accuracy vẫn >95% → Đặc trưng quá tốt"
   ],
   "id": "e97326b0af58ccd1",
   "outputs": [
    {
     "name": "stdout",
     "output_type": "stream",
     "text": [
      "LR Test Accuracy: 0.9864061172472387\n"
     ]
    }
   ],
   "execution_count": 28
  },
  {
   "metadata": {},
   "cell_type": "markdown",
   "source": [
    "## Nhận xét:\n",
    "- khi kiểm tra việc tập train test có bị lẫn lộn gì với nhau hay không thì kết quả 2 tập cân bằng\n",
    "- khi kiểm tra lại với LR hồi quy thì kết quả vẫn tốt với tập train test\n",
    "<br>$\\rightarrow$ Mô hình hoạt động tốt, do đặc trưng là thuộc tính để suy ra kết quả nên độ chính xác là rất cao"
   ],
   "id": "a2767ea9d2adaa66"
  },
  {
   "metadata": {},
   "cell_type": "markdown",
   "source": "# 11. Đóng gói mô hình",
   "id": "2c4a2d6fc22d525e"
  },
  {
   "metadata": {
    "ExecuteTime": {
     "end_time": "2025-06-03T07:40:35.499127Z",
     "start_time": "2025-06-03T07:40:35.478459Z"
    }
   },
   "cell_type": "code",
   "source": [
    "# Lưu model ANN và scaler\n",
    "save_model(model, './model/returning_customer_ann.h5')\n",
    "joblib.dump(scaler, './model/scaler.pkl')"
   ],
   "id": "5a6b3116adc7c336",
   "outputs": [
    {
     "name": "stderr",
     "output_type": "stream",
     "text": [
      "WARNING:absl:You are saving your model as an HDF5 file via `model.save()` or `keras.saving.save_model(model)`. This file format is considered legacy. We recommend using instead the native Keras format, e.g. `model.save('my_model.keras')` or `keras.saving.save_model(model, 'my_model.keras')`. \n"
     ]
    },
    {
     "data": {
      "text/plain": [
       "['./model/scaler.pkl']"
      ]
     },
     "execution_count": 30,
     "metadata": {},
     "output_type": "execute_result"
    }
   ],
   "execution_count": 30
  }
 ],
 "metadata": {
  "kernelspec": {
   "display_name": "Python 3",
   "language": "python",
   "name": "python3"
  },
  "language_info": {
   "codemirror_mode": {
    "name": "ipython",
    "version": 2
   },
   "file_extension": ".py",
   "mimetype": "text/x-python",
   "name": "python",
   "nbconvert_exporter": "python",
   "pygments_lexer": "ipython2",
   "version": "2.7.6"
  }
 },
 "nbformat": 4,
 "nbformat_minor": 5
}

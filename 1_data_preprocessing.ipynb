{
 "cells": [
  {
   "cell_type": "code",
   "execution_count": 1,
   "id": "7e389ee8",
   "metadata": {
    "ExecuteTime": {
     "end_time": "2025-06-03T04:14:01.507698Z",
     "start_time": "2025-06-03T04:14:01.505158Z"
    },
    "execution": {
     "iopub.execute_input": "2025-06-07T02:14:12.515391Z",
     "iopub.status.busy": "2025-06-07T02:14:12.515391Z",
     "iopub.status.idle": "2025-06-07T02:14:13.999585Z",
     "shell.execute_reply": "2025-06-07T02:14:13.999019Z"
    },
    "papermill": {
     "duration": 1.489751,
     "end_time": "2025-06-07T02:14:13.999962",
     "exception": false,
     "start_time": "2025-06-07T02:14:12.510211",
     "status": "completed"
    },
    "tags": []
   },
   "outputs": [],
   "source": [
    "import pandas as pd\n",
    "import numpy as np\n",
    "import seaborn as sns\n",
    "import matplotlib.pyplot as plt"
   ]
  },
  {
   "cell_type": "markdown",
   "id": "ce085011",
   "metadata": {
    "papermill": {
     "duration": 0.005532,
     "end_time": "2025-06-07T02:14:14.005494",
     "exception": false,
     "start_time": "2025-06-07T02:14:13.999962",
     "status": "completed"
    },
    "tags": []
   },
   "source": [
    "test đã load được data hay chưa"
   ]
  },
  {
   "cell_type": "code",
   "execution_count": 2,
   "id": "7aa51b37",
   "metadata": {
    "ExecuteTime": {
     "end_time": "2025-06-03T04:14:06.080902Z",
     "start_time": "2025-06-03T04:14:05.264266Z"
    },
    "execution": {
     "iopub.execute_input": "2025-06-07T02:14:14.011422Z",
     "iopub.status.busy": "2025-06-07T02:14:14.009839Z",
     "iopub.status.idle": "2025-06-07T02:14:14.980843Z",
     "shell.execute_reply": "2025-06-07T02:14:14.979316Z"
    },
    "papermill": {
     "duration": 0.976501,
     "end_time": "2025-06-07T02:14:14.981995",
     "exception": false,
     "start_time": "2025-06-07T02:14:14.005494",
     "status": "completed"
    },
    "tags": []
   },
   "outputs": [
    {
     "data": {
      "text/html": [
       "<div>\n",
       "<style scoped>\n",
       "    .dataframe tbody tr th:only-of-type {\n",
       "        vertical-align: middle;\n",
       "    }\n",
       "\n",
       "    .dataframe tbody tr th {\n",
       "        vertical-align: top;\n",
       "    }\n",
       "\n",
       "    .dataframe thead th {\n",
       "        text-align: right;\n",
       "    }\n",
       "</style>\n",
       "<table border=\"1\" class=\"dataframe\">\n",
       "  <thead>\n",
       "    <tr style=\"text-align: right;\">\n",
       "      <th></th>\n",
       "      <th>Invoice</th>\n",
       "      <th>StockCode</th>\n",
       "      <th>Description</th>\n",
       "      <th>Quantity</th>\n",
       "      <th>InvoiceDate</th>\n",
       "      <th>Price</th>\n",
       "      <th>Customer ID</th>\n",
       "      <th>Country</th>\n",
       "    </tr>\n",
       "  </thead>\n",
       "  <tbody>\n",
       "    <tr>\n",
       "      <th>0</th>\n",
       "      <td>489434</td>\n",
       "      <td>85048</td>\n",
       "      <td>15CM CHRISTMAS GLASS BALL 20 LIGHTS</td>\n",
       "      <td>12</td>\n",
       "      <td>2009-12-01 07:45:00</td>\n",
       "      <td>6.95</td>\n",
       "      <td>13085.0</td>\n",
       "      <td>United Kingdom</td>\n",
       "    </tr>\n",
       "    <tr>\n",
       "      <th>1</th>\n",
       "      <td>489434</td>\n",
       "      <td>79323P</td>\n",
       "      <td>PINK CHERRY LIGHTS</td>\n",
       "      <td>12</td>\n",
       "      <td>2009-12-01 07:45:00</td>\n",
       "      <td>6.75</td>\n",
       "      <td>13085.0</td>\n",
       "      <td>United Kingdom</td>\n",
       "    </tr>\n",
       "    <tr>\n",
       "      <th>2</th>\n",
       "      <td>489434</td>\n",
       "      <td>79323W</td>\n",
       "      <td>WHITE CHERRY LIGHTS</td>\n",
       "      <td>12</td>\n",
       "      <td>2009-12-01 07:45:00</td>\n",
       "      <td>6.75</td>\n",
       "      <td>13085.0</td>\n",
       "      <td>United Kingdom</td>\n",
       "    </tr>\n",
       "    <tr>\n",
       "      <th>3</th>\n",
       "      <td>489434</td>\n",
       "      <td>22041</td>\n",
       "      <td>RECORD FRAME 7\" SINGLE SIZE</td>\n",
       "      <td>48</td>\n",
       "      <td>2009-12-01 07:45:00</td>\n",
       "      <td>2.10</td>\n",
       "      <td>13085.0</td>\n",
       "      <td>United Kingdom</td>\n",
       "    </tr>\n",
       "    <tr>\n",
       "      <th>4</th>\n",
       "      <td>489434</td>\n",
       "      <td>21232</td>\n",
       "      <td>STRAWBERRY CERAMIC TRINKET BOX</td>\n",
       "      <td>24</td>\n",
       "      <td>2009-12-01 07:45:00</td>\n",
       "      <td>1.25</td>\n",
       "      <td>13085.0</td>\n",
       "      <td>United Kingdom</td>\n",
       "    </tr>\n",
       "  </tbody>\n",
       "</table>\n",
       "</div>"
      ],
      "text/plain": [
       "  Invoice StockCode                          Description  Quantity  \\\n",
       "0  489434     85048  15CM CHRISTMAS GLASS BALL 20 LIGHTS        12   \n",
       "1  489434    79323P                   PINK CHERRY LIGHTS        12   \n",
       "2  489434    79323W                  WHITE CHERRY LIGHTS        12   \n",
       "3  489434     22041         RECORD FRAME 7\" SINGLE SIZE         48   \n",
       "4  489434     21232       STRAWBERRY CERAMIC TRINKET BOX        24   \n",
       "\n",
       "           InvoiceDate  Price  Customer ID         Country  \n",
       "0  2009-12-01 07:45:00   6.95      13085.0  United Kingdom  \n",
       "1  2009-12-01 07:45:00   6.75      13085.0  United Kingdom  \n",
       "2  2009-12-01 07:45:00   6.75      13085.0  United Kingdom  \n",
       "3  2009-12-01 07:45:00   2.10      13085.0  United Kingdom  \n",
       "4  2009-12-01 07:45:00   1.25      13085.0  United Kingdom  "
      ]
     },
     "execution_count": 2,
     "metadata": {},
     "output_type": "execute_result"
    }
   ],
   "source": [
    "df= pd.read_csv('./data/online_retail_II.csv')\n",
    "df.head()"
   ]
  },
  {
   "cell_type": "code",
   "execution_count": 3,
   "id": "71014bd0",
   "metadata": {
    "ExecuteTime": {
     "end_time": "2025-06-03T04:14:08.717983Z",
     "start_time": "2025-06-03T04:14:08.319395Z"
    },
    "execution": {
     "iopub.execute_input": "2025-06-07T02:14:14.988994Z",
     "iopub.status.busy": "2025-06-07T02:14:14.987996Z",
     "iopub.status.idle": "2025-06-07T02:14:15.154073Z",
     "shell.execute_reply": "2025-06-07T02:14:15.154073Z"
    },
    "papermill": {
     "duration": 0.170345,
     "end_time": "2025-06-07T02:14:15.155339",
     "exception": false,
     "start_time": "2025-06-07T02:14:14.984994",
     "status": "completed"
    },
    "tags": []
   },
   "outputs": [
    {
     "name": "stdout",
     "output_type": "stream",
     "text": [
      "<class 'pandas.core.frame.DataFrame'>\n",
      "RangeIndex: 1067371 entries, 0 to 1067370\n",
      "Data columns (total 8 columns):\n",
      " #   Column       Non-Null Count    Dtype  \n",
      "---  ------       --------------    -----  \n",
      " 0   Invoice      1067371 non-null  object \n",
      " 1   StockCode    1067371 non-null  object \n",
      " 2   Description  1062989 non-null  object \n",
      " 3   Quantity     1067371 non-null  int64  \n",
      " 4   InvoiceDate  1067371 non-null  object \n",
      " 5   Price        1067371 non-null  float64\n",
      " 6   Customer ID  824364 non-null   float64\n",
      " 7   Country      1067371 non-null  object \n",
      "dtypes: float64(2), int64(1), object(5)\n",
      "memory usage: 65.1+ MB\n"
     ]
    }
   ],
   "source": [
    "df.info()"
   ]
  },
  {
   "cell_type": "code",
   "execution_count": 4,
   "id": "c5a6ca90",
   "metadata": {
    "execution": {
     "iopub.execute_input": "2025-06-07T02:14:15.162949Z",
     "iopub.status.busy": "2025-06-07T02:14:15.161936Z",
     "iopub.status.idle": "2025-06-07T02:14:15.490731Z",
     "shell.execute_reply": "2025-06-07T02:14:15.490731Z"
    },
    "papermill": {
     "duration": 0.333392,
     "end_time": "2025-06-07T02:14:15.491744",
     "exception": false,
     "start_time": "2025-06-07T02:14:15.158352",
     "status": "completed"
    },
    "tags": []
   },
   "outputs": [
    {
     "name": "stdout",
     "output_type": "stream",
     "text": [
      "\n",
      "Count of null values in each column"
     ]
    },
    {
     "name": "stdout",
     "output_type": "stream",
     "text": [
      " Invoice             0\n",
      "StockCode           0\n",
      "Description      4382\n",
      "Quantity            0\n",
      "InvoiceDate         0\n",
      "Price               0\n",
      "Customer ID    243007\n",
      "Country             0\n",
      "dtype: int64\n",
      "\n",
      "Count of null values in each column after cleaning Invoice        0\n",
      "StockCode      0\n",
      "Description    0\n",
      "Quantity       0\n",
      "InvoiceDate    0\n",
      "Price          0\n",
      "Customer ID    0\n",
      "Country        0\n",
      "dtype: int64\n"
     ]
    }
   ],
   "source": [
    "print(\"\\nCount of null values in each column\",df.isnull().sum())\n",
    "df = df.dropna(subset=['Customer ID'])\n",
    "print(\"\\nCount of null values in each column after cleaning\",df.isnull().sum())"
   ]
  },
  {
   "cell_type": "code",
   "execution_count": 5,
   "id": "8dbd50cd",
   "metadata": {
    "ExecuteTime": {
     "end_time": "2025-06-03T04:14:12.056308Z",
     "start_time": "2025-06-03T04:14:11.966491Z"
    },
    "execution": {
     "iopub.execute_input": "2025-06-07T02:14:15.498069Z",
     "iopub.status.busy": "2025-06-07T02:14:15.498069Z",
     "iopub.status.idle": "2025-06-07T02:14:15.650647Z",
     "shell.execute_reply": "2025-06-07T02:14:15.650647Z"
    },
    "papermill": {
     "duration": 0.15713,
     "end_time": "2025-06-07T02:14:15.651871",
     "exception": false,
     "start_time": "2025-06-07T02:14:15.494741",
     "status": "completed"
    },
    "tags": []
   },
   "outputs": [
    {
     "name": "stdout",
     "output_type": "stream",
     "text": [
      "Số dòng bị huỷ (sản phẩm bị hoàn trả): 18744\n",
      "Số đơn hàng bị huỷ (Invoice duy nhất): 7901\n"
     ]
    }
   ],
   "source": [
    "cancelled_orders = df[df['Invoice'].astype(str).str.startswith('C')]\n",
    "\n",
    "num_cancelled_rows = len(cancelled_orders)\n",
    "num_cancelled_invoices = cancelled_orders['Invoice'].nunique()\n",
    "\n",
    "print(f\"Số dòng bị huỷ (sản phẩm bị hoàn trả): {num_cancelled_rows}\")\n",
    "print(f\"Số đơn hàng bị huỷ (Invoice duy nhất): {num_cancelled_invoices}\")\n"
   ]
  },
  {
   "cell_type": "code",
   "execution_count": 6,
   "id": "067c76d4",
   "metadata": {
    "ExecuteTime": {
     "end_time": "2025-06-03T04:14:13.554805Z",
     "start_time": "2025-06-03T04:14:13.355523Z"
    },
    "execution": {
     "iopub.execute_input": "2025-06-07T02:14:15.658632Z",
     "iopub.status.busy": "2025-06-07T02:14:15.658632Z",
     "iopub.status.idle": "2025-06-07T02:14:15.908534Z",
     "shell.execute_reply": "2025-06-07T02:14:15.908029Z"
    },
    "papermill": {
     "duration": 0.25447,
     "end_time": "2025-06-07T02:14:15.909541",
     "exception": false,
     "start_time": "2025-06-07T02:14:15.655071",
     "status": "completed"
    },
    "tags": []
   },
   "outputs": [],
   "source": [
    "df = df[~df.Invoice.str.contains('C',na=False)]\n"
   ]
  },
  {
   "cell_type": "markdown",
   "id": "8e6afd36",
   "metadata": {
    "papermill": {
     "duration": 0.003001,
     "end_time": "2025-06-07T02:14:15.916540",
     "exception": false,
     "start_time": "2025-06-07T02:14:15.913539",
     "status": "completed"
    },
    "tags": []
   },
   "source": [
    "trên kaggle báo rằng InvoiceDate đang có kiểu dữ liệu là numeric\n",
    "customerID đang dạng float -> string"
   ]
  },
  {
   "cell_type": "code",
   "execution_count": 7,
   "id": "f52548df",
   "metadata": {
    "ExecuteTime": {
     "end_time": "2025-06-03T04:14:14.844393Z",
     "start_time": "2025-06-03T04:14:14.669069Z"
    },
    "execution": {
     "iopub.execute_input": "2025-06-07T02:14:15.922542Z",
     "iopub.status.busy": "2025-06-07T02:14:15.922542Z",
     "iopub.status.idle": "2025-06-07T02:14:16.144082Z",
     "shell.execute_reply": "2025-06-07T02:14:16.144082Z"
    },
    "papermill": {
     "duration": 0.226931,
     "end_time": "2025-06-07T02:14:16.145470",
     "exception": false,
     "start_time": "2025-06-07T02:14:15.918539",
     "status": "completed"
    },
    "tags": []
   },
   "outputs": [
    {
     "name": "stdout",
     "output_type": "stream",
     "text": [
      "<class 'pandas.core.frame.DataFrame'>\n",
      "Index: 805620 entries, 0 to 1067370\n",
      "Data columns (total 8 columns):\n",
      " #   Column       Non-Null Count   Dtype         \n",
      "---  ------       --------------   -----         \n",
      " 0   Invoice      805620 non-null  object        \n",
      " 1   StockCode    805620 non-null  object        \n",
      " 2   Description  805620 non-null  object        \n",
      " 3   Quantity     805620 non-null  int64         \n",
      " 4   InvoiceDate  805620 non-null  datetime64[ns]\n",
      " 5   Price        805620 non-null  float64       \n",
      " 6   Customer ID  805620 non-null  float64       \n",
      " 7   Country      805620 non-null  object        \n",
      "dtypes: datetime64[ns](1), float64(2), int64(1), object(4)\n",
      "memory usage: 55.3+ MB\n"
     ]
    }
   ],
   "source": [
    "df['InvoiceDate']=pd.to_datetime(df['InvoiceDate'])\n",
    "df.info()\n"
   ]
  },
  {
   "cell_type": "code",
   "execution_count": 8,
   "id": "2be0eabb",
   "metadata": {
    "ExecuteTime": {
     "end_time": "2025-06-03T04:14:16.393063Z",
     "start_time": "2025-06-03T04:14:16.380249Z"
    },
    "execution": {
     "iopub.execute_input": "2025-06-07T02:14:16.151998Z",
     "iopub.status.busy": "2025-06-07T02:14:16.150996Z",
     "iopub.status.idle": "2025-06-07T02:14:16.159504Z",
     "shell.execute_reply": "2025-06-07T02:14:16.158998Z"
    },
    "papermill": {
     "duration": 0.012019,
     "end_time": "2025-06-07T02:14:16.159504",
     "exception": false,
     "start_time": "2025-06-07T02:14:16.147485",
     "status": "completed"
    },
    "tags": []
   },
   "outputs": [],
   "source": [
    "df['TotalPrice'] = df['Quantity'] * df['Price']"
   ]
  },
  {
   "cell_type": "code",
   "execution_count": 9,
   "id": "ce787c18",
   "metadata": {
    "ExecuteTime": {
     "end_time": "2025-06-03T04:14:17.429768Z",
     "start_time": "2025-06-03T04:14:17.421582Z"
    },
    "execution": {
     "iopub.execute_input": "2025-06-07T02:14:16.167798Z",
     "iopub.status.busy": "2025-06-07T02:14:16.167798Z",
     "iopub.status.idle": "2025-06-07T02:14:16.189354Z",
     "shell.execute_reply": "2025-06-07T02:14:16.188850Z"
    },
    "papermill": {
     "duration": 0.024847,
     "end_time": "2025-06-07T02:14:16.189354",
     "exception": false,
     "start_time": "2025-06-07T02:14:16.164507",
     "status": "completed"
    },
    "tags": []
   },
   "outputs": [
    {
     "data": {
      "text/html": [
       "<div>\n",
       "<style scoped>\n",
       "    .dataframe tbody tr th:only-of-type {\n",
       "        vertical-align: middle;\n",
       "    }\n",
       "\n",
       "    .dataframe tbody tr th {\n",
       "        vertical-align: top;\n",
       "    }\n",
       "\n",
       "    .dataframe thead th {\n",
       "        text-align: right;\n",
       "    }\n",
       "</style>\n",
       "<table border=\"1\" class=\"dataframe\">\n",
       "  <thead>\n",
       "    <tr style=\"text-align: right;\">\n",
       "      <th></th>\n",
       "      <th>Invoice</th>\n",
       "      <th>StockCode</th>\n",
       "      <th>Description</th>\n",
       "      <th>Quantity</th>\n",
       "      <th>InvoiceDate</th>\n",
       "      <th>Price</th>\n",
       "      <th>Customer ID</th>\n",
       "      <th>Country</th>\n",
       "      <th>TotalPrice</th>\n",
       "    </tr>\n",
       "  </thead>\n",
       "  <tbody>\n",
       "    <tr>\n",
       "      <th>0</th>\n",
       "      <td>489434</td>\n",
       "      <td>85048</td>\n",
       "      <td>15CM CHRISTMAS GLASS BALL 20 LIGHTS</td>\n",
       "      <td>12</td>\n",
       "      <td>2009-12-01 07:45:00</td>\n",
       "      <td>6.95</td>\n",
       "      <td>13085.0</td>\n",
       "      <td>United Kingdom</td>\n",
       "      <td>83.4</td>\n",
       "    </tr>\n",
       "    <tr>\n",
       "      <th>1</th>\n",
       "      <td>489434</td>\n",
       "      <td>79323P</td>\n",
       "      <td>PINK CHERRY LIGHTS</td>\n",
       "      <td>12</td>\n",
       "      <td>2009-12-01 07:45:00</td>\n",
       "      <td>6.75</td>\n",
       "      <td>13085.0</td>\n",
       "      <td>United Kingdom</td>\n",
       "      <td>81.0</td>\n",
       "    </tr>\n",
       "    <tr>\n",
       "      <th>2</th>\n",
       "      <td>489434</td>\n",
       "      <td>79323W</td>\n",
       "      <td>WHITE CHERRY LIGHTS</td>\n",
       "      <td>12</td>\n",
       "      <td>2009-12-01 07:45:00</td>\n",
       "      <td>6.75</td>\n",
       "      <td>13085.0</td>\n",
       "      <td>United Kingdom</td>\n",
       "      <td>81.0</td>\n",
       "    </tr>\n",
       "    <tr>\n",
       "      <th>3</th>\n",
       "      <td>489434</td>\n",
       "      <td>22041</td>\n",
       "      <td>RECORD FRAME 7\" SINGLE SIZE</td>\n",
       "      <td>48</td>\n",
       "      <td>2009-12-01 07:45:00</td>\n",
       "      <td>2.10</td>\n",
       "      <td>13085.0</td>\n",
       "      <td>United Kingdom</td>\n",
       "      <td>100.8</td>\n",
       "    </tr>\n",
       "    <tr>\n",
       "      <th>4</th>\n",
       "      <td>489434</td>\n",
       "      <td>21232</td>\n",
       "      <td>STRAWBERRY CERAMIC TRINKET BOX</td>\n",
       "      <td>24</td>\n",
       "      <td>2009-12-01 07:45:00</td>\n",
       "      <td>1.25</td>\n",
       "      <td>13085.0</td>\n",
       "      <td>United Kingdom</td>\n",
       "      <td>30.0</td>\n",
       "    </tr>\n",
       "  </tbody>\n",
       "</table>\n",
       "</div>"
      ],
      "text/plain": [
       "  Invoice StockCode                          Description  Quantity  \\\n",
       "0  489434     85048  15CM CHRISTMAS GLASS BALL 20 LIGHTS        12   \n",
       "1  489434    79323P                   PINK CHERRY LIGHTS        12   \n",
       "2  489434    79323W                  WHITE CHERRY LIGHTS        12   \n",
       "3  489434     22041         RECORD FRAME 7\" SINGLE SIZE         48   \n",
       "4  489434     21232       STRAWBERRY CERAMIC TRINKET BOX        24   \n",
       "\n",
       "          InvoiceDate  Price  Customer ID         Country  TotalPrice  \n",
       "0 2009-12-01 07:45:00   6.95      13085.0  United Kingdom        83.4  \n",
       "1 2009-12-01 07:45:00   6.75      13085.0  United Kingdom        81.0  \n",
       "2 2009-12-01 07:45:00   6.75      13085.0  United Kingdom        81.0  \n",
       "3 2009-12-01 07:45:00   2.10      13085.0  United Kingdom       100.8  \n",
       "4 2009-12-01 07:45:00   1.25      13085.0  United Kingdom        30.0  "
      ]
     },
     "execution_count": 9,
     "metadata": {},
     "output_type": "execute_result"
    }
   ],
   "source": [
    "df.head()"
   ]
  },
  {
   "cell_type": "code",
   "execution_count": 10,
   "id": "c988cd50",
   "metadata": {
    "ExecuteTime": {
     "end_time": "2025-06-03T04:14:20.925264Z",
     "start_time": "2025-06-03T04:14:19.766086Z"
    },
    "execution": {
     "iopub.execute_input": "2025-06-07T02:14:16.195547Z",
     "iopub.status.busy": "2025-06-07T02:14:16.195547Z",
     "iopub.status.idle": "2025-06-07T02:14:17.492436Z",
     "shell.execute_reply": "2025-06-07T02:14:17.491921Z"
    },
    "papermill": {
     "duration": 1.30103,
     "end_time": "2025-06-07T02:14:17.493602",
     "exception": false,
     "start_time": "2025-06-07T02:14:16.192572",
     "status": "completed"
    },
    "tags": []
   },
   "outputs": [
    {
     "name": "stdout",
     "output_type": "stream",
     "text": [
      "Number of duplicates before cleaning: 26125\n"
     ]
    },
    {
     "name": "stdout",
     "output_type": "stream",
     "text": [
      "Number of duplicates after cleaning: 0\n"
     ]
    }
   ],
   "source": [
    "\n",
    "# Removing duplicates (Values in all columns are identical)\n",
    "print(\"Number of duplicates before cleaning:\",df.duplicated().sum())\n",
    "df = df.drop_duplicates(keep=\"first\")\n",
    "print(\"Number of duplicates after cleaning:\",df.duplicated().sum())\n"
   ]
  },
  {
   "cell_type": "code",
   "execution_count": 11,
   "id": "755d7eb5",
   "metadata": {
    "ExecuteTime": {
     "end_time": "2025-06-03T04:14:26.830499Z",
     "start_time": "2025-06-03T04:14:23.897344Z"
    },
    "execution": {
     "iopub.execute_input": "2025-06-07T02:14:17.500211Z",
     "iopub.status.busy": "2025-06-07T02:14:17.498961Z",
     "iopub.status.idle": "2025-06-07T02:14:21.044710Z",
     "shell.execute_reply": "2025-06-07T02:14:21.043671Z"
    },
    "papermill": {
     "duration": 3.550588,
     "end_time": "2025-06-07T02:14:21.047201",
     "exception": false,
     "start_time": "2025-06-07T02:14:17.496613",
     "status": "completed"
    },
    "tags": []
   },
   "outputs": [],
   "source": [
    "df.to_csv('./data/processed_data.csv', index=False)\n"
   ]
  }
 ],
 "metadata": {
  "kernelspec": {
   "display_name": "Python 3",
   "language": "python",
   "name": "python3"
  },
  "language_info": {
   "codemirror_mode": {
    "name": "ipython",
    "version": 3
   },
   "file_extension": ".py",
   "mimetype": "text/x-python",
   "name": "python",
   "nbconvert_exporter": "python",
   "pygments_lexer": "ipython3",
   "version": "3.11.9"
  },
  "papermill": {
   "default_parameters": {},
   "duration": 10.760226,
   "end_time": "2025-06-07T02:14:21.519887",
   "environment_variables": {},
   "exception": null,
   "input_path": "1_data_preprocessing.ipynb",
   "output_path": "1_data_preprocessing.ipynb",
   "parameters": {},
   "start_time": "2025-06-07T02:14:10.759661",
   "version": "2.6.0"
  }
 },
 "nbformat": 4,
 "nbformat_minor": 5
}
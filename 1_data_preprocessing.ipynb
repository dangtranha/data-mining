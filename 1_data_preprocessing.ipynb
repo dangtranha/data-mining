{
 "cells": [
  {
   "cell_type": "code",
   "execution_count": 1,
   "id": "7e389ee8",
   "metadata": {
    "execution": {
     "iopub.execute_input": "2025-06-02T13:38:29.302087Z",
     "iopub.status.busy": "2025-06-02T13:38:29.302087Z",
     "iopub.status.idle": "2025-06-02T13:38:32.269450Z",
     "shell.execute_reply": "2025-06-02T13:38:32.269450Z"
    },
    "papermill": {
     "duration": 2.970227,
     "end_time": "2025-06-02T13:38:32.270754",
     "exception": false,
     "start_time": "2025-06-02T13:38:29.300527",
     "status": "completed"
    },
    "tags": []
   },
   "outputs": [],
   "source": [
    "import pandas as pd\n",
    "import numpy as np\n",
    "import seaborn as sns\n",
    "import matplotlib.pyplot as plt"
   ]
  },
  {
   "cell_type": "markdown",
   "id": "ce085011",
   "metadata": {
    "papermill": {
     "duration": 0.002007,
     "end_time": "2025-06-02T13:38:32.276136",
     "exception": false,
     "start_time": "2025-06-02T13:38:32.274129",
     "status": "completed"
    },
    "tags": []
   },
   "source": [
    "test đã load được data hay chưa"
   ]
  },
  {
   "cell_type": "code",
   "execution_count": 2,
   "id": "7aa51b37",
   "metadata": {
    "execution": {
     "iopub.execute_input": "2025-06-02T13:38:32.282138Z",
     "iopub.status.busy": "2025-06-02T13:38:32.282138Z",
     "iopub.status.idle": "2025-06-02T13:38:33.371730Z",
     "shell.execute_reply": "2025-06-02T13:38:33.371398Z"
    },
    "papermill": {
     "duration": 1.094769,
     "end_time": "2025-06-02T13:38:33.372903",
     "exception": false,
     "start_time": "2025-06-02T13:38:32.278134",
     "status": "completed"
    },
    "tags": []
   },
   "outputs": [
    {
     "data": {
      "text/html": [
       "<div>\n",
       "<style scoped>\n",
       "    .dataframe tbody tr th:only-of-type {\n",
       "        vertical-align: middle;\n",
       "    }\n",
       "\n",
       "    .dataframe tbody tr th {\n",
       "        vertical-align: top;\n",
       "    }\n",
       "\n",
       "    .dataframe thead th {\n",
       "        text-align: right;\n",
       "    }\n",
       "</style>\n",
       "<table border=\"1\" class=\"dataframe\">\n",
       "  <thead>\n",
       "    <tr style=\"text-align: right;\">\n",
       "      <th></th>\n",
       "      <th>Invoice</th>\n",
       "      <th>StockCode</th>\n",
       "      <th>Description</th>\n",
       "      <th>Quantity</th>\n",
       "      <th>InvoiceDate</th>\n",
       "      <th>Price</th>\n",
       "      <th>Customer ID</th>\n",
       "      <th>Country</th>\n",
       "    </tr>\n",
       "  </thead>\n",
       "  <tbody>\n",
       "    <tr>\n",
       "      <th>0</th>\n",
       "      <td>489434</td>\n",
       "      <td>85048</td>\n",
       "      <td>15CM CHRISTMAS GLASS BALL 20 LIGHTS</td>\n",
       "      <td>12</td>\n",
       "      <td>2009-12-01 07:45:00</td>\n",
       "      <td>6.95</td>\n",
       "      <td>13085.0</td>\n",
       "      <td>United Kingdom</td>\n",
       "    </tr>\n",
       "    <tr>\n",
       "      <th>1</th>\n",
       "      <td>489434</td>\n",
       "      <td>79323P</td>\n",
       "      <td>PINK CHERRY LIGHTS</td>\n",
       "      <td>12</td>\n",
       "      <td>2009-12-01 07:45:00</td>\n",
       "      <td>6.75</td>\n",
       "      <td>13085.0</td>\n",
       "      <td>United Kingdom</td>\n",
       "    </tr>\n",
       "    <tr>\n",
       "      <th>2</th>\n",
       "      <td>489434</td>\n",
       "      <td>79323W</td>\n",
       "      <td>WHITE CHERRY LIGHTS</td>\n",
       "      <td>12</td>\n",
       "      <td>2009-12-01 07:45:00</td>\n",
       "      <td>6.75</td>\n",
       "      <td>13085.0</td>\n",
       "      <td>United Kingdom</td>\n",
       "    </tr>\n",
       "    <tr>\n",
       "      <th>3</th>\n",
       "      <td>489434</td>\n",
       "      <td>22041</td>\n",
       "      <td>RECORD FRAME 7\" SINGLE SIZE</td>\n",
       "      <td>48</td>\n",
       "      <td>2009-12-01 07:45:00</td>\n",
       "      <td>2.10</td>\n",
       "      <td>13085.0</td>\n",
       "      <td>United Kingdom</td>\n",
       "    </tr>\n",
       "    <tr>\n",
       "      <th>4</th>\n",
       "      <td>489434</td>\n",
       "      <td>21232</td>\n",
       "      <td>STRAWBERRY CERAMIC TRINKET BOX</td>\n",
       "      <td>24</td>\n",
       "      <td>2009-12-01 07:45:00</td>\n",
       "      <td>1.25</td>\n",
       "      <td>13085.0</td>\n",
       "      <td>United Kingdom</td>\n",
       "    </tr>\n",
       "  </tbody>\n",
       "</table>\n",
       "</div>"
      ],
      "text/plain": [
       "  Invoice StockCode                          Description  Quantity  \\\n",
       "0  489434     85048  15CM CHRISTMAS GLASS BALL 20 LIGHTS        12   \n",
       "1  489434    79323P                   PINK CHERRY LIGHTS        12   \n",
       "2  489434    79323W                  WHITE CHERRY LIGHTS        12   \n",
       "3  489434     22041         RECORD FRAME 7\" SINGLE SIZE         48   \n",
       "4  489434     21232       STRAWBERRY CERAMIC TRINKET BOX        24   \n",
       "\n",
       "           InvoiceDate  Price  Customer ID         Country  \n",
       "0  2009-12-01 07:45:00   6.95      13085.0  United Kingdom  \n",
       "1  2009-12-01 07:45:00   6.75      13085.0  United Kingdom  \n",
       "2  2009-12-01 07:45:00   6.75      13085.0  United Kingdom  \n",
       "3  2009-12-01 07:45:00   2.10      13085.0  United Kingdom  \n",
       "4  2009-12-01 07:45:00   1.25      13085.0  United Kingdom  "
      ]
     },
     "execution_count": 2,
     "metadata": {},
     "output_type": "execute_result"
    }
   ],
   "source": [
    "df= pd.read_csv('./data/online_retail_II.csv')\n",
    "df.head()"
   ]
  },
  {
   "cell_type": "code",
   "execution_count": 3,
   "id": "71014bd0",
   "metadata": {
    "execution": {
     "iopub.execute_input": "2025-06-02T13:38:33.379903Z",
     "iopub.status.busy": "2025-06-02T13:38:33.379903Z",
     "iopub.status.idle": "2025-06-02T13:38:33.862347Z",
     "shell.execute_reply": "2025-06-02T13:38:33.861832Z"
    },
    "papermill": {
     "duration": 0.487483,
     "end_time": "2025-06-02T13:38:33.863384",
     "exception": false,
     "start_time": "2025-06-02T13:38:33.375901",
     "status": "completed"
    },
    "tags": []
   },
   "outputs": [
    {
     "name": "stdout",
     "output_type": "stream",
     "text": [
      "<class 'pandas.core.frame.DataFrame'>\n",
      "RangeIndex: 1067371 entries, 0 to 1067370\n",
      "Data columns (total 8 columns):\n",
      " #   Column       Non-Null Count    Dtype  \n",
      "---  ------       --------------    -----  \n",
      " 0   Invoice      1067371 non-null  object \n",
      " 1   StockCode    1067371 non-null  object \n",
      " 2   Description  1062989 non-null  object \n",
      " 3   Quantity     1067371 non-null  int64  \n",
      " 4   InvoiceDate  1067371 non-null  object \n",
      " 5   Price        1067371 non-null  float64\n",
      " 6   Customer ID  824364 non-null   float64\n",
      " 7   Country      1067371 non-null  object \n",
      "dtypes: float64(2), int64(1), object(5)\n",
      "memory usage: 65.1+ MB\n",
      "\n",
      "Count of null values in each column Invoice             0\n",
      "StockCode           0\n",
      "Description      4382\n",
      "Quantity            0\n",
      "InvoiceDate         0\n",
      "Price               0\n",
      "Customer ID    243007\n",
      "Country             0\n",
      "dtype: int64\n"
     ]
    },
    {
     "name": "stdout",
     "output_type": "stream",
     "text": [
      "\n",
      "Count of null values in each column after cleaning Invoice        0\n",
      "StockCode      0\n",
      "Description    0\n",
      "Quantity       0\n",
      "InvoiceDate    0\n",
      "Price          0\n",
      "Customer ID    0\n",
      "Country        0\n",
      "dtype: int64\n"
     ]
    }
   ],
   "source": [
    "df.info()\n",
    "print(\"\\nCount of null values in each column\",df.isnull().sum())\n",
    "df = df.dropna(subset=['Customer ID'])\n",
    "print(\"\\nCount of null values in each column after cleaning\",df.isnull().sum())\n"
   ]
  },
  {
   "cell_type": "code",
   "execution_count": 4,
   "id": "e30d362a",
   "metadata": {
    "execution": {
     "iopub.execute_input": "2025-06-02T13:38:33.872384Z",
     "iopub.status.busy": "2025-06-02T13:38:33.872384Z",
     "iopub.status.idle": "2025-06-02T13:38:33.912682Z",
     "shell.execute_reply": "2025-06-02T13:38:33.912682Z"
    },
    "papermill": {
     "duration": 0.046312,
     "end_time": "2025-06-02T13:38:33.913696",
     "exception": false,
     "start_time": "2025-06-02T13:38:33.867384",
     "status": "completed"
    },
    "tags": []
   },
   "outputs": [
    {
     "data": {
      "text/plain": [
       "(824364, 8)"
      ]
     },
     "execution_count": 4,
     "metadata": {},
     "output_type": "execute_result"
    }
   ],
   "source": [
    "df = df.dropna(subset=['Customer ID'])\n",
    "df.shape\n"
   ]
  },
  {
   "cell_type": "code",
   "execution_count": 5,
   "id": "8dbd50cd",
   "metadata": {
    "execution": {
     "iopub.execute_input": "2025-06-02T13:38:33.920506Z",
     "iopub.status.busy": "2025-06-02T13:38:33.919333Z",
     "iopub.status.idle": "2025-06-02T13:38:34.069689Z",
     "shell.execute_reply": "2025-06-02T13:38:34.069689Z"
    },
    "papermill": {
     "duration": 0.153961,
     "end_time": "2025-06-02T13:38:34.070697",
     "exception": false,
     "start_time": "2025-06-02T13:38:33.916736",
     "status": "completed"
    },
    "tags": []
   },
   "outputs": [
    {
     "name": "stdout",
     "output_type": "stream",
     "text": [
      "Số dòng bị huỷ (sản phẩm bị hoàn trả): 18744"
     ]
    },
    {
     "name": "stdout",
     "output_type": "stream",
     "text": [
      "\n",
      "Số đơn hàng bị huỷ (Invoice duy nhất): 7901\n"
     ]
    }
   ],
   "source": [
    "cancelled_orders = df[df['Invoice'].astype(str).str.startswith('C')]\n",
    "\n",
    "num_cancelled_rows = len(cancelled_orders)\n",
    "num_cancelled_invoices = cancelled_orders['Invoice'].nunique()\n",
    "\n",
    "print(f\"Số dòng bị huỷ (sản phẩm bị hoàn trả): {num_cancelled_rows}\")\n",
    "print(f\"Số đơn hàng bị huỷ (Invoice duy nhất): {num_cancelled_invoices}\")\n"
   ]
  },
  {
   "cell_type": "code",
   "execution_count": 6,
   "id": "067c76d4",
   "metadata": {
    "execution": {
     "iopub.execute_input": "2025-06-02T13:38:34.077987Z",
     "iopub.status.busy": "2025-06-02T13:38:34.077987Z",
     "iopub.status.idle": "2025-06-02T13:38:34.287252Z",
     "shell.execute_reply": "2025-06-02T13:38:34.287252Z"
    },
    "papermill": {
     "duration": 0.215563,
     "end_time": "2025-06-02T13:38:34.289260",
     "exception": false,
     "start_time": "2025-06-02T13:38:34.073697",
     "status": "completed"
    },
    "tags": []
   },
   "outputs": [],
   "source": [
    "df = df[~df.Invoice.str.contains('C',na=False)]\n"
   ]
  },
  {
   "cell_type": "markdown",
   "id": "8e6afd36",
   "metadata": {
    "papermill": {
     "duration": 0.002416,
     "end_time": "2025-06-02T13:38:34.295006",
     "exception": false,
     "start_time": "2025-06-02T13:38:34.292590",
     "status": "completed"
    },
    "tags": []
   },
   "source": [
    "trên kaggle báo rằng InvoiceDate đang có kiểu dữ liệu là numeric\n",
    "customerID đang dạng float -> string"
   ]
  },
  {
   "cell_type": "code",
   "execution_count": 7,
   "id": "f52548df",
   "metadata": {
    "execution": {
     "iopub.execute_input": "2025-06-02T13:38:34.301881Z",
     "iopub.status.busy": "2025-06-02T13:38:34.301881Z",
     "iopub.status.idle": "2025-06-02T13:38:34.524088Z",
     "shell.execute_reply": "2025-06-02T13:38:34.524088Z"
    },
    "papermill": {
     "duration": 0.227463,
     "end_time": "2025-06-02T13:38:34.525504",
     "exception": false,
     "start_time": "2025-06-02T13:38:34.298041",
     "status": "completed"
    },
    "tags": []
   },
   "outputs": [
    {
     "name": "stdout",
     "output_type": "stream",
     "text": [
      "<class 'pandas.core.frame.DataFrame'>\n",
      "Index: 805620 entries, 0 to 1067370\n",
      "Data columns (total 8 columns):\n",
      " #   Column       Non-Null Count   Dtype         \n",
      "---  ------       --------------   -----         \n",
      " 0   Invoice      805620 non-null  object        \n",
      " 1   StockCode    805620 non-null  object        \n",
      " 2   Description  805620 non-null  object        \n",
      " 3   Quantity     805620 non-null  int64         \n",
      " 4   InvoiceDate  805620 non-null  datetime64[ns]\n",
      " 5   Price        805620 non-null  float64       \n",
      " 6   Customer ID  805620 non-null  float64       \n",
      " 7   Country      805620 non-null  object        \n",
      "dtypes: datetime64[ns](1), float64(2), int64(1), object(4)\n",
      "memory usage: 55.3+ MB\n"
     ]
    }
   ],
   "source": [
    "df['InvoiceDate']=pd.to_datetime(df['InvoiceDate'])\n",
    "df.info()\n"
   ]
  },
  {
   "cell_type": "code",
   "execution_count": 8,
   "id": "2be0eabb",
   "metadata": {
    "execution": {
     "iopub.execute_input": "2025-06-02T13:38:34.532523Z",
     "iopub.status.busy": "2025-06-02T13:38:34.531523Z",
     "iopub.status.idle": "2025-06-02T13:38:34.539560Z",
     "shell.execute_reply": "2025-06-02T13:38:34.539560Z"
    },
    "papermill": {
     "duration": 0.01282,
     "end_time": "2025-06-02T13:38:34.540859",
     "exception": false,
     "start_time": "2025-06-02T13:38:34.528039",
     "status": "completed"
    },
    "tags": []
   },
   "outputs": [],
   "source": [
    "df['TotalPrice'] = df['Quantity'] * df['Price']"
   ]
  },
  {
   "cell_type": "code",
   "execution_count": 9,
   "id": "ce787c18",
   "metadata": {
    "execution": {
     "iopub.execute_input": "2025-06-02T13:38:34.549615Z",
     "iopub.status.busy": "2025-06-02T13:38:34.548618Z",
     "iopub.status.idle": "2025-06-02T13:38:34.573689Z",
     "shell.execute_reply": "2025-06-02T13:38:34.573689Z"
    },
    "papermill": {
     "duration": 0.029316,
     "end_time": "2025-06-02T13:38:34.574736",
     "exception": false,
     "start_time": "2025-06-02T13:38:34.545420",
     "status": "completed"
    },
    "tags": []
   },
   "outputs": [
    {
     "data": {
      "text/html": [
       "<div>\n",
       "<style scoped>\n",
       "    .dataframe tbody tr th:only-of-type {\n",
       "        vertical-align: middle;\n",
       "    }\n",
       "\n",
       "    .dataframe tbody tr th {\n",
       "        vertical-align: top;\n",
       "    }\n",
       "\n",
       "    .dataframe thead th {\n",
       "        text-align: right;\n",
       "    }\n",
       "</style>\n",
       "<table border=\"1\" class=\"dataframe\">\n",
       "  <thead>\n",
       "    <tr style=\"text-align: right;\">\n",
       "      <th></th>\n",
       "      <th>Invoice</th>\n",
       "      <th>StockCode</th>\n",
       "      <th>Description</th>\n",
       "      <th>Quantity</th>\n",
       "      <th>InvoiceDate</th>\n",
       "      <th>Price</th>\n",
       "      <th>Customer ID</th>\n",
       "      <th>Country</th>\n",
       "      <th>TotalPrice</th>\n",
       "    </tr>\n",
       "  </thead>\n",
       "  <tbody>\n",
       "    <tr>\n",
       "      <th>0</th>\n",
       "      <td>489434</td>\n",
       "      <td>85048</td>\n",
       "      <td>15CM CHRISTMAS GLASS BALL 20 LIGHTS</td>\n",
       "      <td>12</td>\n",
       "      <td>2009-12-01 07:45:00</td>\n",
       "      <td>6.95</td>\n",
       "      <td>13085.0</td>\n",
       "      <td>United Kingdom</td>\n",
       "      <td>83.4</td>\n",
       "    </tr>\n",
       "    <tr>\n",
       "      <th>1</th>\n",
       "      <td>489434</td>\n",
       "      <td>79323P</td>\n",
       "      <td>PINK CHERRY LIGHTS</td>\n",
       "      <td>12</td>\n",
       "      <td>2009-12-01 07:45:00</td>\n",
       "      <td>6.75</td>\n",
       "      <td>13085.0</td>\n",
       "      <td>United Kingdom</td>\n",
       "      <td>81.0</td>\n",
       "    </tr>\n",
       "    <tr>\n",
       "      <th>2</th>\n",
       "      <td>489434</td>\n",
       "      <td>79323W</td>\n",
       "      <td>WHITE CHERRY LIGHTS</td>\n",
       "      <td>12</td>\n",
       "      <td>2009-12-01 07:45:00</td>\n",
       "      <td>6.75</td>\n",
       "      <td>13085.0</td>\n",
       "      <td>United Kingdom</td>\n",
       "      <td>81.0</td>\n",
       "    </tr>\n",
       "    <tr>\n",
       "      <th>3</th>\n",
       "      <td>489434</td>\n",
       "      <td>22041</td>\n",
       "      <td>RECORD FRAME 7\" SINGLE SIZE</td>\n",
       "      <td>48</td>\n",
       "      <td>2009-12-01 07:45:00</td>\n",
       "      <td>2.10</td>\n",
       "      <td>13085.0</td>\n",
       "      <td>United Kingdom</td>\n",
       "      <td>100.8</td>\n",
       "    </tr>\n",
       "    <tr>\n",
       "      <th>4</th>\n",
       "      <td>489434</td>\n",
       "      <td>21232</td>\n",
       "      <td>STRAWBERRY CERAMIC TRINKET BOX</td>\n",
       "      <td>24</td>\n",
       "      <td>2009-12-01 07:45:00</td>\n",
       "      <td>1.25</td>\n",
       "      <td>13085.0</td>\n",
       "      <td>United Kingdom</td>\n",
       "      <td>30.0</td>\n",
       "    </tr>\n",
       "  </tbody>\n",
       "</table>\n",
       "</div>"
      ],
      "text/plain": [
       "  Invoice StockCode                          Description  Quantity  \\\n",
       "0  489434     85048  15CM CHRISTMAS GLASS BALL 20 LIGHTS        12   \n",
       "1  489434    79323P                   PINK CHERRY LIGHTS        12   \n",
       "2  489434    79323W                  WHITE CHERRY LIGHTS        12   \n",
       "3  489434     22041         RECORD FRAME 7\" SINGLE SIZE         48   \n",
       "4  489434     21232       STRAWBERRY CERAMIC TRINKET BOX        24   \n",
       "\n",
       "          InvoiceDate  Price  Customer ID         Country  TotalPrice  \n",
       "0 2009-12-01 07:45:00   6.95      13085.0  United Kingdom        83.4  \n",
       "1 2009-12-01 07:45:00   6.75      13085.0  United Kingdom        81.0  \n",
       "2 2009-12-01 07:45:00   6.75      13085.0  United Kingdom        81.0  \n",
       "3 2009-12-01 07:45:00   2.10      13085.0  United Kingdom       100.8  \n",
       "4 2009-12-01 07:45:00   1.25      13085.0  United Kingdom        30.0  "
      ]
     },
     "execution_count": 9,
     "metadata": {},
     "output_type": "execute_result"
    }
   ],
   "source": [
    "df.head()"
   ]
  },
  {
   "cell_type": "code",
   "execution_count": 10,
   "id": "c988cd50",
   "metadata": {
    "execution": {
     "iopub.execute_input": "2025-06-02T13:38:34.581999Z",
     "iopub.status.busy": "2025-06-02T13:38:34.581005Z",
     "iopub.status.idle": "2025-06-02T13:38:36.091688Z",
     "shell.execute_reply": "2025-06-02T13:38:36.091688Z"
    },
    "papermill": {
     "duration": 1.515391,
     "end_time": "2025-06-02T13:38:36.093193",
     "exception": false,
     "start_time": "2025-06-02T13:38:34.577802",
     "status": "completed"
    },
    "tags": []
   },
   "outputs": [
    {
     "name": "stdout",
     "output_type": "stream",
     "text": [
      "Number of duplicates before cleaning: 26125\n"
     ]
    },
    {
     "name": "stdout",
     "output_type": "stream",
     "text": [
      "Number of duplicates after cleaning: 0\n"
     ]
    }
   ],
   "source": [
    "\n",
    "# Removing duplicates (Values in all columns are identical)\n",
    "print(\"Number of duplicates before cleaning:\",df.duplicated().sum())\n",
    "df = df.drop_duplicates(keep=\"first\")\n",
    "print(\"Number of duplicates after cleaning:\",df.duplicated().sum())\n"
   ]
  },
  {
   "cell_type": "code",
   "execution_count": 11,
   "id": "1319cfe3",
   "metadata": {
    "execution": {
     "iopub.execute_input": "2025-06-02T13:38:36.100825Z",
     "iopub.status.busy": "2025-06-02T13:38:36.100825Z",
     "iopub.status.idle": "2025-06-02T13:38:36.660185Z",
     "shell.execute_reply": "2025-06-02T13:38:36.660185Z"
    },
    "papermill": {
     "duration": 0.564878,
     "end_time": "2025-06-02T13:38:36.661406",
     "exception": false,
     "start_time": "2025-06-02T13:38:36.096528",
     "status": "completed"
    },
    "tags": []
   },
   "outputs": [
    {
     "data": {
      "image/png": "[encoded data removed]",
      "text/plain": [
       "<Figure size 2000x500 with 2 Axes>"
      ]
     },
     "metadata": {},
     "output_type": "display_data"
    }
   ],
   "source": [
    "\n",
    "fig, ax = plt.subplots(1, 2, figsize=(20, 5))  # 1 hàng, 2 cột\n",
    "\n",
    "# Boxplot cho Quantity\n",
    "ax[0].boxplot(df['Quantity'], flierprops=dict(marker=\"s\", markerfacecolor=\"red\"), vert=0)\n",
    "ax[0].set_title(\"Boxplot of Quantity\")\n",
    "\n",
    "# Boxplot cho Price\n",
    "ax[1].boxplot(df['Price'], flierprops=dict(marker=\"s\", markerfacecolor=\"red\"), vert=0)\n",
    "ax[1].set_title(\"Boxplot of Price\")\n",
    "\n",
    "plt.tight_layout()\n",
    "plt.show()\n"
   ]
  },
  {
   "cell_type": "code",
   "execution_count": 12,
   "id": "f876d43f",
   "metadata": {
    "execution": {
     "iopub.execute_input": "2025-06-02T13:38:36.669419Z",
     "iopub.status.busy": "2025-06-02T13:38:36.669419Z",
     "iopub.status.idle": "2025-06-02T13:38:36.718238Z",
     "shell.execute_reply": "2025-06-02T13:38:36.718238Z"
    },
    "papermill": {
     "duration": 0.054279,
     "end_time": "2025-06-02T13:38:36.719692",
     "exception": false,
     "start_time": "2025-06-02T13:38:36.665413",
     "status": "completed"
    },
    "tags": []
   },
   "outputs": [],
   "source": [
    "#defining funcation to remove outliers w.r.t its thresholds\n",
    "def outlier_thresholds(dataframe, variable):\n",
    "    Q1 = dataframe[variable].quantile(0.25)\n",
    "    Q3 = dataframe[variable].quantile(0.75)\n",
    "    IQR = Q3 - Q1\n",
    "    lower_limit = Q1 - 1.5 * IQR\n",
    "    upper_limit = Q3 + 1.5 * IQR\n",
    "    return upper_limit, lower_limit\n",
    "\n",
    "def replace_with_threshold(dataframe, variable):\n",
    "    upper_limit, lower_limit = outlier_thresholds(dataframe, variable)\n",
    "    dataframe.loc[dataframe[variable] > upper_limit, variable] = upper_limit\n",
    "    dataframe.loc[dataframe[variable] < lower_limit, variable] = lower_limit\n",
    "\n",
    "\n",
    "replace_with_threshold(df, \"Quantity\")\n",
    "replace_with_threshold(df, \"Price\")"
   ]
  },
  {
   "cell_type": "code",
   "execution_count": 13,
   "id": "712cad46",
   "metadata": {
    "execution": {
     "iopub.execute_input": "2025-06-02T13:38:36.728216Z",
     "iopub.status.busy": "2025-06-02T13:38:36.728216Z",
     "iopub.status.idle": "2025-06-02T13:38:36.910608Z",
     "shell.execute_reply": "2025-06-02T13:38:36.910608Z"
    },
    "papermill": {
     "duration": 0.188453,
     "end_time": "2025-06-02T13:38:36.911646",
     "exception": false,
     "start_time": "2025-06-02T13:38:36.723193",
     "status": "completed"
    },
    "tags": []
   },
   "outputs": [
    {
     "data": {
      "image/png": "[encoded data removed]",
      "text/plain": [
       "<Figure size 2000x500 with 2 Axes>"
      ]
     },
     "metadata": {},
     "output_type": "display_data"
    }
   ],
   "source": [
    "fig, ax = plt.subplots(1, 2, figsize=(20, 5))  # 1 hàng, 2 cột\n",
    "\n",
    "# Boxplot cho Quantity\n",
    "ax[0].boxplot(df['Quantity'], flierprops=dict(marker=\"s\", markerfacecolor=\"red\"), vert=0)\n",
    "ax[0].set_title(\"Boxplot of Quantity\")\n",
    "\n",
    "# Boxplot cho Price\n",
    "ax[1].boxplot(df['Price'], flierprops=dict(marker=\"s\", markerfacecolor=\"red\"), vert=0)\n",
    "ax[1].set_title(\"Boxplot of Price\")\n",
    "\n",
    "plt.tight_layout()\n",
    "plt.show()\n"
   ]
  },
  {
   "cell_type": "markdown",
   "id": "95249af1",
   "metadata": {
    "papermill": {
     "duration": 0.004,
     "end_time": "2025-06-02T13:38:36.919646",
     "exception": false,
     "start_time": "2025-06-02T13:38:36.915646",
     "status": "completed"
    },
    "tags": []
   },
   "source": [
    "Tukey’s Rule xử lý outlier thì mất quá nhiều dữ liệu cân nhắc cách khác"
   ]
  },
  {
   "cell_type": "code",
   "execution_count": 14,
   "id": "cc8067c7",
   "metadata": {
    "execution": {
     "iopub.execute_input": "2025-06-02T13:38:36.931195Z",
     "iopub.status.busy": "2025-06-02T13:38:36.931195Z",
     "iopub.status.idle": "2025-06-02T13:38:37.064846Z",
     "shell.execute_reply": "2025-06-02T13:38:37.064846Z"
    },
    "papermill": {
     "duration": 0.14266,
     "end_time": "2025-06-02T13:38:37.066854",
     "exception": false,
     "start_time": "2025-06-02T13:38:36.924194",
     "status": "completed"
    },
    "tags": []
   },
   "outputs": [
    {
     "name": "stdout",
     "output_type": "stream",
     "text": [
      "<class 'pandas.core.frame.DataFrame'>\n",
      "Index: 779495 entries, 0 to 1067370\n",
      "Data columns (total 9 columns):\n",
      " #   Column       Non-Null Count   Dtype         \n",
      "---  ------       --------------   -----         \n",
      " 0   Invoice      779495 non-null  object        \n",
      " 1   StockCode    779495 non-null  object        \n",
      " 2   Description  779495 non-null  object        \n",
      " 3   Quantity     779495 non-null  int64         \n",
      " 4   InvoiceDate  779495 non-null  datetime64[ns]\n",
      " 5   Price        779495 non-null  float64       \n",
      " 6   Customer ID  779495 non-null  float64       \n",
      " 7   Country      779495 non-null  object        \n",
      " 8   TotalPrice   779495 non-null  float64       \n",
      "dtypes: datetime64[ns](1), float64(3), int64(1), object(4)\n",
      "memory usage: 59.5+ MB\n"
     ]
    }
   ],
   "source": [
    "df.info()"
   ]
  },
  {
   "cell_type": "markdown",
   "id": "13e60d0f",
   "metadata": {
    "papermill": {
     "duration": 0.005002,
     "end_time": "2025-06-02T13:38:37.076995",
     "exception": false,
     "start_time": "2025-06-02T13:38:37.071993",
     "status": "completed"
    },
    "tags": []
   },
   "source": [
    "-> Đã xử lý xong dữ liệu, sau khi xử lý mất 27% "
   ]
  },
  {
   "cell_type": "code",
   "execution_count": 15,
   "id": "755d7eb5",
   "metadata": {
    "execution": {
     "iopub.execute_input": "2025-06-02T13:38:37.103206Z",
     "iopub.status.busy": "2025-06-02T13:38:37.102205Z"
    },
    "papermill": {
     "duration": 2.046194,
     "end_time": "2025-06-02T13:38:39.129187",
     "exception": false,
     "start_time": "2025-06-02T13:38:37.082993",
     "status": "completed"
    },
    "tags": []
   },
   "outputs": [
    {
     "name": "stderr",
     "output_type": "stream",
     "text": [
      "Exception ignored in: <bound method IPythonKernel._clean_thread_parent_frames of <ipykernel.ipkernel.IPythonKernel object at 0x0000027B8ED7BD50>>\n",
      "Traceback (most recent call last):\n",
      "  File \"C:\\Users\\dangth\\AppData\\Roaming\\Python\\Python311\\site-packages\\ipykernel\\ipkernel.py\", line 790, in _clean_thread_parent_frames\n"
     ]
    },
    {
     "name": "stderr",
     "output_type": "stream",
     "text": [
      "    active_threads = {thread.ident for thread in threading.enumerate()}\n",
      "                                                 ^^^^^^^^^^^^^^^^^^^^^\n",
      "  File \"C:\\Program Files\\Python311\\Lib\\threading.py\", line 1501, in enumerate\n",
      "    def enumerate():\n",
      "    \n",
      "KeyboardInterrupt: \n"
     ]
    }
   ],
   "source": [
    "df.to_csv('./data/processed_data.csv', index=False)\n"
   ]
  }
 ],
 "metadata": {
  "kernelspec": {
   "display_name": "Python 3",
   "language": "python",
   "name": "python3"
  },
  "language_info": {
   "codemirror_mode": {
    "name": "ipython",
    "version": 3
   },
   "file_extension": ".py",
   "mimetype": "text/x-python",
   "name": "python",
   "nbconvert_exporter": "python",
   "pygments_lexer": "ipython3",
   "version": "3.11.9"
  },
  "papermill": {
   "default_parameters": {},
   "duration": 12.794865,
   "end_time": "2025-06-02T13:38:39.470771",
   "environment_variables": {},
   "exception": null,
   "input_path": "1_data_preprocessing.ipynb",
   "output_path": "1_data_preprocessing.ipynb",
   "parameters": {},
   "start_time": "2025-06-02T13:38:26.675906",
   "version": "2.6.0"
  }
 },
 "nbformat": 4,
 "nbformat_minor": 5
}
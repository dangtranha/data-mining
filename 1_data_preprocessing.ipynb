{
 "cells": [
  {
   "cell_type": "code",
   "execution_count": 1,
   "id": "7e389ee8",
   "metadata": {
    "ExecuteTime": {
     "end_time": "2025-06-03T04:14:01.507698Z",
     "start_time": "2025-06-03T04:14:01.505158Z"
    },
    "execution": {
     "iopub.execute_input": "2025-06-05T09:38:36.736350Z",
     "iopub.status.busy": "2025-06-05T09:38:36.736350Z",
     "iopub.status.idle": "2025-06-05T09:38:42.297705Z",
     "shell.execute_reply": "2025-06-05T09:38:42.297705Z"
    },
    "papermill": {
     "duration": 5.567396,
     "end_time": "2025-06-05T09:38:42.299713",
     "exception": false,
     "start_time": "2025-06-05T09:38:36.732317",
     "status": "completed"
    },
    "tags": []
   },
   "outputs": [],
   "source": [
    "import pandas as pd\n",
    "import numpy as np\n",
    "import seaborn as sns\n",
    "import matplotlib.pyplot as plt"
   ]
  },
  {
   "cell_type": "markdown",
   "id": "ce085011",
   "metadata": {
    "papermill": {
     "duration": 0.002,
     "end_time": "2025-06-05T09:38:42.303713",
     "exception": false,
     "start_time": "2025-06-05T09:38:42.301713",
     "status": "completed"
    },
    "tags": []
   },
   "source": [
    "test đã load được data hay chưa"
   ]
  },
  {
   "cell_type": "code",
   "execution_count": 2,
   "id": "7aa51b37",
   "metadata": {
    "ExecuteTime": {
     "end_time": "2025-06-03T04:14:06.080902Z",
     "start_time": "2025-06-03T04:14:05.264266Z"
    },
    "execution": {
     "iopub.execute_input": "2025-06-05T09:38:42.310144Z",
     "iopub.status.busy": "2025-06-05T09:38:42.310144Z",
     "iopub.status.idle": "2025-06-05T09:38:43.158598Z",
     "shell.execute_reply": "2025-06-05T09:38:43.158598Z"
    },
    "papermill": {
     "duration": 0.854161,
     "end_time": "2025-06-05T09:38:43.159874",
     "exception": false,
     "start_time": "2025-06-05T09:38:42.305713",
     "status": "completed"
    },
    "tags": []
   },
   "outputs": [
    {
     "data": {
      "text/html": [
       "<div>\n",
       "<style scoped>\n",
       "    .dataframe tbody tr th:only-of-type {\n",
       "        vertical-align: middle;\n",
       "    }\n",
       "\n",
       "    .dataframe tbody tr th {\n",
       "        vertical-align: top;\n",
       "    }\n",
       "\n",
       "    .dataframe thead th {\n",
       "        text-align: right;\n",
       "    }\n",
       "</style>\n",
       "<table border=\"1\" class=\"dataframe\">\n",
       "  <thead>\n",
       "    <tr style=\"text-align: right;\">\n",
       "      <th></th>\n",
       "      <th>Invoice</th>\n",
       "      <th>StockCode</th>\n",
       "      <th>Description</th>\n",
       "      <th>Quantity</th>\n",
       "      <th>InvoiceDate</th>\n",
       "      <th>Price</th>\n",
       "      <th>Customer ID</th>\n",
       "      <th>Country</th>\n",
       "    </tr>\n",
       "  </thead>\n",
       "  <tbody>\n",
       "    <tr>\n",
       "      <th>0</th>\n",
       "      <td>489434</td>\n",
       "      <td>85048</td>\n",
       "      <td>15CM CHRISTMAS GLASS BALL 20 LIGHTS</td>\n",
       "      <td>12</td>\n",
       "      <td>2009-12-01 07:45:00</td>\n",
       "      <td>6.95</td>\n",
       "      <td>13085.0</td>\n",
       "      <td>United Kingdom</td>\n",
       "    </tr>\n",
       "    <tr>\n",
       "      <th>1</th>\n",
       "      <td>489434</td>\n",
       "      <td>79323P</td>\n",
       "      <td>PINK CHERRY LIGHTS</td>\n",
       "      <td>12</td>\n",
       "      <td>2009-12-01 07:45:00</td>\n",
       "      <td>6.75</td>\n",
       "      <td>13085.0</td>\n",
       "      <td>United Kingdom</td>\n",
       "    </tr>\n",
       "    <tr>\n",
       "      <th>2</th>\n",
       "      <td>489434</td>\n",
       "      <td>79323W</td>\n",
       "      <td>WHITE CHERRY LIGHTS</td>\n",
       "      <td>12</td>\n",
       "      <td>2009-12-01 07:45:00</td>\n",
       "      <td>6.75</td>\n",
       "      <td>13085.0</td>\n",
       "      <td>United Kingdom</td>\n",
       "    </tr>\n",
       "    <tr>\n",
       "      <th>3</th>\n",
       "      <td>489434</td>\n",
       "      <td>22041</td>\n",
       "      <td>RECORD FRAME 7\" SINGLE SIZE</td>\n",
       "      <td>48</td>\n",
       "      <td>2009-12-01 07:45:00</td>\n",
       "      <td>2.10</td>\n",
       "      <td>13085.0</td>\n",
       "      <td>United Kingdom</td>\n",
       "    </tr>\n",
       "    <tr>\n",
       "      <th>4</th>\n",
       "      <td>489434</td>\n",
       "      <td>21232</td>\n",
       "      <td>STRAWBERRY CERAMIC TRINKET BOX</td>\n",
       "      <td>24</td>\n",
       "      <td>2009-12-01 07:45:00</td>\n",
       "      <td>1.25</td>\n",
       "      <td>13085.0</td>\n",
       "      <td>United Kingdom</td>\n",
       "    </tr>\n",
       "  </tbody>\n",
       "</table>\n",
       "</div>"
      ],
      "text/plain": [
       "  Invoice StockCode                          Description  Quantity  \\\n",
       "0  489434     85048  15CM CHRISTMAS GLASS BALL 20 LIGHTS        12   \n",
       "1  489434    79323P                   PINK CHERRY LIGHTS        12   \n",
       "2  489434    79323W                  WHITE CHERRY LIGHTS        12   \n",
       "3  489434     22041         RECORD FRAME 7\" SINGLE SIZE         48   \n",
       "4  489434     21232       STRAWBERRY CERAMIC TRINKET BOX        24   \n",
       "\n",
       "           InvoiceDate  Price  Customer ID         Country  \n",
       "0  2009-12-01 07:45:00   6.95      13085.0  United Kingdom  \n",
       "1  2009-12-01 07:45:00   6.75      13085.0  United Kingdom  \n",
       "2  2009-12-01 07:45:00   6.75      13085.0  United Kingdom  \n",
       "3  2009-12-01 07:45:00   2.10      13085.0  United Kingdom  \n",
       "4  2009-12-01 07:45:00   1.25      13085.0  United Kingdom  "
      ]
     },
     "execution_count": 2,
     "metadata": {},
     "output_type": "execute_result"
    }
   ],
   "source": [
    "df= pd.read_csv('./data/online_retail_II.csv')\n",
    "df.head()"
   ]
  },
  {
   "cell_type": "code",
   "execution_count": 3,
   "id": "71014bd0",
   "metadata": {
    "ExecuteTime": {
     "end_time": "2025-06-03T04:14:08.717983Z",
     "start_time": "2025-06-03T04:14:08.319395Z"
    },
    "execution": {
     "iopub.execute_input": "2025-06-05T09:38:43.165365Z",
     "iopub.status.busy": "2025-06-05T09:38:43.165365Z",
     "iopub.status.idle": "2025-06-05T09:38:43.561481Z",
     "shell.execute_reply": "2025-06-05T09:38:43.561481Z"
    },
    "papermill": {
     "duration": 0.400991,
     "end_time": "2025-06-05T09:38:43.562874",
     "exception": false,
     "start_time": "2025-06-05T09:38:43.161883",
     "status": "completed"
    },
    "tags": []
   },
   "outputs": [
    {
     "name": "stdout",
     "output_type": "stream",
     "text": [
      "<class 'pandas.core.frame.DataFrame'>\n",
      "RangeIndex: 1067371 entries, 0 to 1067370\n",
      "Data columns (total 8 columns):\n",
      " #   Column       Non-Null Count    Dtype  \n",
      "---  ------       --------------    -----  \n",
      " 0   Invoice      1067371 non-null  object \n",
      " 1   StockCode    1067371 non-null  object \n",
      " 2   Description  1062989 non-null  object \n",
      " 3   Quantity     1067371 non-null  int64  \n",
      " 4   InvoiceDate  1067371 non-null  object \n",
      " 5   Price        1067371 non-null  float64\n",
      " 6   Customer ID  824364 non-null   float64\n",
      " 7   Country      1067371 non-null  object \n",
      "dtypes: float64(2), int64(1), object(5)\n",
      "memory usage: 65.1+ MB\n",
      "\n",
      "Count of null values in each column Invoice             0\n",
      "StockCode           0\n",
      "Description      4382\n",
      "Quantity            0\n",
      "InvoiceDate         0\n",
      "Price               0\n",
      "Customer ID    243007\n",
      "Country             0\n",
      "dtype: int64\n"
     ]
    },
    {
     "name": "stdout",
     "output_type": "stream",
     "text": [
      "\n",
      "Count of null values in each column after cleaning Invoice        0\n",
      "StockCode      0\n",
      "Description    0\n",
      "Quantity       0\n",
      "InvoiceDate    0\n",
      "Price          0\n",
      "Customer ID    0\n",
      "Country        0\n",
      "dtype: int64\n"
     ]
    }
   ],
   "source": [
    "df.info()\n",
    "print(\"\\nCount of null values in each column\",df.isnull().sum())\n",
    "df = df.dropna(subset=['Customer ID'])\n",
    "print(\"\\nCount of null values in each column after cleaning\",df.isnull().sum())\n"
   ]
  },
  {
   "cell_type": "code",
   "execution_count": 4,
   "id": "e30d362a",
   "metadata": {
    "ExecuteTime": {
     "end_time": "2025-06-03T04:14:10.370141Z",
     "start_time": "2025-06-03T04:14:10.333841Z"
    },
    "execution": {
     "iopub.execute_input": "2025-06-05T09:38:43.569508Z",
     "iopub.status.busy": "2025-06-05T09:38:43.569508Z",
     "iopub.status.idle": "2025-06-05T09:38:43.601855Z",
     "shell.execute_reply": "2025-06-05T09:38:43.601855Z"
    },
    "papermill": {
     "duration": 0.036978,
     "end_time": "2025-06-05T09:38:43.602863",
     "exception": false,
     "start_time": "2025-06-05T09:38:43.565885",
     "status": "completed"
    },
    "tags": []
   },
   "outputs": [
    {
     "data": {
      "text/plain": [
       "(824364, 8)"
      ]
     },
     "execution_count": 4,
     "metadata": {},
     "output_type": "execute_result"
    }
   ],
   "source": [
    "df = df.dropna(subset=['Customer ID'])\n",
    "df.shape\n"
   ]
  },
  {
   "cell_type": "code",
   "execution_count": 5,
   "id": "8dbd50cd",
   "metadata": {
    "ExecuteTime": {
     "end_time": "2025-06-03T04:14:12.056308Z",
     "start_time": "2025-06-03T04:14:11.966491Z"
    },
    "execution": {
     "iopub.execute_input": "2025-06-05T09:38:43.608042Z",
     "iopub.status.busy": "2025-06-05T09:38:43.608042Z",
     "iopub.status.idle": "2025-06-05T09:38:43.742092Z",
     "shell.execute_reply": "2025-06-05T09:38:43.742092Z"
    },
    "papermill": {
     "duration": 0.138797,
     "end_time": "2025-06-05T09:38:43.743657",
     "exception": false,
     "start_time": "2025-06-05T09:38:43.604860",
     "status": "completed"
    },
    "tags": []
   },
   "outputs": [
    {
     "name": "stdout",
     "output_type": "stream",
     "text": [
      "Số dòng bị huỷ (sản phẩm bị hoàn trả): 18744\n",
      "Số đơn hàng bị huỷ (Invoice duy nhất): 7901\n"
     ]
    }
   ],
   "source": [
    "cancelled_orders = df[df['Invoice'].astype(str).str.startswith('C')]\n",
    "\n",
    "num_cancelled_rows = len(cancelled_orders)\n",
    "num_cancelled_invoices = cancelled_orders['Invoice'].nunique()\n",
    "\n",
    "print(f\"Số dòng bị huỷ (sản phẩm bị hoàn trả): {num_cancelled_rows}\")\n",
    "print(f\"Số đơn hàng bị huỷ (Invoice duy nhất): {num_cancelled_invoices}\")\n"
   ]
  },
  {
   "cell_type": "code",
   "execution_count": 6,
   "id": "067c76d4",
   "metadata": {
    "ExecuteTime": {
     "end_time": "2025-06-03T04:14:13.554805Z",
     "start_time": "2025-06-03T04:14:13.355523Z"
    },
    "execution": {
     "iopub.execute_input": "2025-06-05T09:38:43.750907Z",
     "iopub.status.busy": "2025-06-05T09:38:43.750907Z",
     "iopub.status.idle": "2025-06-05T09:38:43.936708Z",
     "shell.execute_reply": "2025-06-05T09:38:43.936201Z"
    },
    "papermill": {
     "duration": 0.191061,
     "end_time": "2025-06-05T09:38:43.937715",
     "exception": false,
     "start_time": "2025-06-05T09:38:43.746654",
     "status": "completed"
    },
    "tags": []
   },
   "outputs": [],
   "source": [
    "df = df[~df.Invoice.str.contains('C',na=False)]\n"
   ]
  },
  {
   "cell_type": "markdown",
   "id": "8e6afd36",
   "metadata": {
    "papermill": {
     "duration": 0.002,
     "end_time": "2025-06-05T09:38:43.942713",
     "exception": false,
     "start_time": "2025-06-05T09:38:43.940713",
     "status": "completed"
    },
    "tags": []
   },
   "source": [
    "trên kaggle báo rằng InvoiceDate đang có kiểu dữ liệu là numeric\n",
    "customerID đang dạng float -> string"
   ]
  },
  {
   "cell_type": "code",
   "execution_count": 7,
   "id": "f52548df",
   "metadata": {
    "ExecuteTime": {
     "end_time": "2025-06-03T04:14:14.844393Z",
     "start_time": "2025-06-03T04:14:14.669069Z"
    },
    "execution": {
     "iopub.execute_input": "2025-06-05T09:38:43.949090Z",
     "iopub.status.busy": "2025-06-05T09:38:43.949090Z",
     "iopub.status.idle": "2025-06-05T09:38:44.130640Z",
     "shell.execute_reply": "2025-06-05T09:38:44.130640Z"
    },
    "papermill": {
     "duration": 0.185211,
     "end_time": "2025-06-05T09:38:44.131172",
     "exception": false,
     "start_time": "2025-06-05T09:38:43.945961",
     "status": "completed"
    },
    "tags": []
   },
   "outputs": [
    {
     "name": "stdout",
     "output_type": "stream",
     "text": [
      "<class 'pandas.core.frame.DataFrame'>\n",
      "Index: 805620 entries, 0 to 1067370\n",
      "Data columns (total 8 columns):\n",
      " #   Column       Non-Null Count   Dtype         \n",
      "---  ------       --------------   -----         \n",
      " 0   Invoice      805620 non-null  object        \n",
      " 1   StockCode    805620 non-null  object        \n",
      " 2   Description  805620 non-null  object        \n",
      " 3   Quantity     805620 non-null  int64         \n",
      " 4   InvoiceDate  805620 non-null  datetime64[ns]\n",
      " 5   Price        805620 non-null  float64       \n",
      " 6   Customer ID  805620 non-null  float64       \n",
      " 7   Country      805620 non-null  object        \n",
      "dtypes: datetime64[ns](1), float64(2), int64(1), object(4)\n",
      "memory usage: 55.3+ MB\n"
     ]
    }
   ],
   "source": [
    "df['InvoiceDate']=pd.to_datetime(df['InvoiceDate'])\n",
    "df.info()\n"
   ]
  },
  {
   "cell_type": "code",
   "execution_count": 8,
   "id": "2be0eabb",
   "metadata": {
    "ExecuteTime": {
     "end_time": "2025-06-03T04:14:16.393063Z",
     "start_time": "2025-06-03T04:14:16.380249Z"
    },
    "execution": {
     "iopub.execute_input": "2025-06-05T09:38:44.137865Z",
     "iopub.status.busy": "2025-06-05T09:38:44.137865Z",
     "iopub.status.idle": "2025-06-05T09:38:44.144252Z",
     "shell.execute_reply": "2025-06-05T09:38:44.144252Z"
    },
    "papermill": {
     "duration": 0.010409,
     "end_time": "2025-06-05T09:38:44.145258",
     "exception": false,
     "start_time": "2025-06-05T09:38:44.134849",
     "status": "completed"
    },
    "tags": []
   },
   "outputs": [],
   "source": [
    "df['TotalPrice'] = df['Quantity'] * df['Price']"
   ]
  },
  {
   "cell_type": "code",
   "execution_count": 9,
   "id": "ce787c18",
   "metadata": {
    "ExecuteTime": {
     "end_time": "2025-06-03T04:14:17.429768Z",
     "start_time": "2025-06-03T04:14:17.421582Z"
    },
    "execution": {
     "iopub.execute_input": "2025-06-05T09:38:44.150593Z",
     "iopub.status.busy": "2025-06-05T09:38:44.150593Z",
     "iopub.status.idle": "2025-06-05T09:38:44.159073Z",
     "shell.execute_reply": "2025-06-05T09:38:44.159073Z"
    },
    "papermill": {
     "duration": 0.012781,
     "end_time": "2025-06-05T09:38:44.160079",
     "exception": false,
     "start_time": "2025-06-05T09:38:44.147298",
     "status": "completed"
    },
    "tags": []
   },
   "outputs": [
    {
     "data": {
      "text/html": [
       "<div>\n",
       "<style scoped>\n",
       "    .dataframe tbody tr th:only-of-type {\n",
       "        vertical-align: middle;\n",
       "    }\n",
       "\n",
       "    .dataframe tbody tr th {\n",
       "        vertical-align: top;\n",
       "    }\n",
       "\n",
       "    .dataframe thead th {\n",
       "        text-align: right;\n",
       "    }\n",
       "</style>\n",
       "<table border=\"1\" class=\"dataframe\">\n",
       "  <thead>\n",
       "    <tr style=\"text-align: right;\">\n",
       "      <th></th>\n",
       "      <th>Invoice</th>\n",
       "      <th>StockCode</th>\n",
       "      <th>Description</th>\n",
       "      <th>Quantity</th>\n",
       "      <th>InvoiceDate</th>\n",
       "      <th>Price</th>\n",
       "      <th>Customer ID</th>\n",
       "      <th>Country</th>\n",
       "      <th>TotalPrice</th>\n",
       "    </tr>\n",
       "  </thead>\n",
       "  <tbody>\n",
       "    <tr>\n",
       "      <th>0</th>\n",
       "      <td>489434</td>\n",
       "      <td>85048</td>\n",
       "      <td>15CM CHRISTMAS GLASS BALL 20 LIGHTS</td>\n",
       "      <td>12</td>\n",
       "      <td>2009-12-01 07:45:00</td>\n",
       "      <td>6.95</td>\n",
       "      <td>13085.0</td>\n",
       "      <td>United Kingdom</td>\n",
       "      <td>83.4</td>\n",
       "    </tr>\n",
       "    <tr>\n",
       "      <th>1</th>\n",
       "      <td>489434</td>\n",
       "      <td>79323P</td>\n",
       "      <td>PINK CHERRY LIGHTS</td>\n",
       "      <td>12</td>\n",
       "      <td>2009-12-01 07:45:00</td>\n",
       "      <td>6.75</td>\n",
       "      <td>13085.0</td>\n",
       "      <td>United Kingdom</td>\n",
       "      <td>81.0</td>\n",
       "    </tr>\n",
       "    <tr>\n",
       "      <th>2</th>\n",
       "      <td>489434</td>\n",
       "      <td>79323W</td>\n",
       "      <td>WHITE CHERRY LIGHTS</td>\n",
       "      <td>12</td>\n",
       "      <td>2009-12-01 07:45:00</td>\n",
       "      <td>6.75</td>\n",
       "      <td>13085.0</td>\n",
       "      <td>United Kingdom</td>\n",
       "      <td>81.0</td>\n",
       "    </tr>\n",
       "    <tr>\n",
       "      <th>3</th>\n",
       "      <td>489434</td>\n",
       "      <td>22041</td>\n",
       "      <td>RECORD FRAME 7\" SINGLE SIZE</td>\n",
       "      <td>48</td>\n",
       "      <td>2009-12-01 07:45:00</td>\n",
       "      <td>2.10</td>\n",
       "      <td>13085.0</td>\n",
       "      <td>United Kingdom</td>\n",
       "      <td>100.8</td>\n",
       "    </tr>\n",
       "    <tr>\n",
       "      <th>4</th>\n",
       "      <td>489434</td>\n",
       "      <td>21232</td>\n",
       "      <td>STRAWBERRY CERAMIC TRINKET BOX</td>\n",
       "      <td>24</td>\n",
       "      <td>2009-12-01 07:45:00</td>\n",
       "      <td>1.25</td>\n",
       "      <td>13085.0</td>\n",
       "      <td>United Kingdom</td>\n",
       "      <td>30.0</td>\n",
       "    </tr>\n",
       "  </tbody>\n",
       "</table>\n",
       "</div>"
      ],
      "text/plain": [
       "  Invoice StockCode                          Description  Quantity  \\\n",
       "0  489434     85048  15CM CHRISTMAS GLASS BALL 20 LIGHTS        12   \n",
       "1  489434    79323P                   PINK CHERRY LIGHTS        12   \n",
       "2  489434    79323W                  WHITE CHERRY LIGHTS        12   \n",
       "3  489434     22041         RECORD FRAME 7\" SINGLE SIZE         48   \n",
       "4  489434     21232       STRAWBERRY CERAMIC TRINKET BOX        24   \n",
       "\n",
       "          InvoiceDate  Price  Customer ID         Country  TotalPrice  \n",
       "0 2009-12-01 07:45:00   6.95      13085.0  United Kingdom        83.4  \n",
       "1 2009-12-01 07:45:00   6.75      13085.0  United Kingdom        81.0  \n",
       "2 2009-12-01 07:45:00   6.75      13085.0  United Kingdom        81.0  \n",
       "3 2009-12-01 07:45:00   2.10      13085.0  United Kingdom       100.8  \n",
       "4 2009-12-01 07:45:00   1.25      13085.0  United Kingdom        30.0  "
      ]
     },
     "execution_count": 9,
     "metadata": {},
     "output_type": "execute_result"
    }
   ],
   "source": [
    "df.head()"
   ]
  },
  {
   "cell_type": "code",
   "execution_count": 10,
   "id": "c988cd50",
   "metadata": {
    "ExecuteTime": {
     "end_time": "2025-06-03T04:14:20.925264Z",
     "start_time": "2025-06-03T04:14:19.766086Z"
    },
    "execution": {
     "iopub.execute_input": "2025-06-05T09:38:44.167079Z",
     "iopub.status.busy": "2025-06-05T09:38:44.166079Z",
     "iopub.status.idle": "2025-06-05T09:38:45.266720Z",
     "shell.execute_reply": "2025-06-05T09:38:45.266720Z"
    },
    "papermill": {
     "duration": 1.105074,
     "end_time": "2025-06-05T09:38:45.268152",
     "exception": false,
     "start_time": "2025-06-05T09:38:44.163078",
     "status": "completed"
    },
    "tags": []
   },
   "outputs": [
    {
     "name": "stdout",
     "output_type": "stream",
     "text": [
      "Number of duplicates before cleaning: 26125\n"
     ]
    },
    {
     "name": "stdout",
     "output_type": "stream",
     "text": [
      "Number of duplicates after cleaning: 0\n"
     ]
    }
   ],
   "source": [
    "\n",
    "# Removing duplicates (Values in all columns are identical)\n",
    "print(\"Number of duplicates before cleaning:\",df.duplicated().sum())\n",
    "df = df.drop_duplicates(keep=\"first\")\n",
    "print(\"Number of duplicates after cleaning:\",df.duplicated().sum())\n"
   ]
  },
  {
   "cell_type": "markdown",
   "id": "13e60d0f",
   "metadata": {
    "papermill": {
     "duration": 0.002123,
     "end_time": "2025-06-05T09:38:45.273275",
     "exception": false,
     "start_time": "2025-06-05T09:38:45.271152",
     "status": "completed"
    },
    "tags": []
   },
   "source": [
    "-> Đã xử lý xong dữ liệu, sau khi xử lý mất 27% "
   ]
  },
  {
   "cell_type": "code",
   "execution_count": 11,
   "id": "755d7eb5",
   "metadata": {
    "ExecuteTime": {
     "end_time": "2025-06-03T04:14:26.830499Z",
     "start_time": "2025-06-03T04:14:23.897344Z"
    },
    "execution": {
     "iopub.execute_input": "2025-06-05T09:38:45.278931Z",
     "iopub.status.busy": "2025-06-05T09:38:45.278931Z",
     "iopub.status.idle": "2025-06-05T09:38:48.336505Z",
     "shell.execute_reply": "2025-06-05T09:38:48.335994Z"
    },
    "papermill": {
     "duration": 3.060852,
     "end_time": "2025-06-05T09:38:48.337570",
     "exception": false,
     "start_time": "2025-06-05T09:38:45.276718",
     "status": "completed"
    },
    "tags": []
   },
   "outputs": [],
   "source": [
    "df.to_csv('./data/processed_data.csv', index=False)\n"
   ]
  }
 ],
 "metadata": {
  "kernelspec": {
   "display_name": "Python 3",
   "language": "python",
   "name": "python3"
  },
  "language_info": {
   "codemirror_mode": {
    "name": "ipython",
    "version": 3
   },
   "file_extension": ".py",
   "mimetype": "text/x-python",
   "name": "python",
   "nbconvert_exporter": "python",
   "pygments_lexer": "ipython3",
   "version": "3.11.9"
  },
  "papermill": {
   "default_parameters": {},
   "duration": 13.919493,
   "end_time": "2025-06-05T09:38:48.787387",
   "environment_variables": {},
   "exception": null,
   "input_path": "1_data_preprocessing.ipynb",
   "output_path": "1_data_preprocessing.ipynb",
   "parameters": {},
   "start_time": "2025-06-05T09:38:34.867894",
   "version": "2.6.0"
  }
 },
 "nbformat": 4,
 "nbformat_minor": 5
}
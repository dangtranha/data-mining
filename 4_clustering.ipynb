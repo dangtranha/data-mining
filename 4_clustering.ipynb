{
 "cells": [
  {
   "cell_type": "code",
   "execution_count": 1,
   "id": "6824e8f1",
   "metadata": {
    "execution": {
     "iopub.execute_input": "2025-06-05T09:39:32.986547Z",
     "iopub.status.busy": "2025-06-05T09:39:32.985570Z",
     "iopub.status.idle": "2025-06-05T09:39:35.988469Z",
     "shell.execute_reply": "2025-06-05T09:39:35.988469Z"
    },
    "papermill": {
     "duration": 3.006941,
     "end_time": "2025-06-05T09:39:35.988469",
     "exception": false,
     "start_time": "2025-06-05T09:39:32.981528",
     "status": "completed"
    },
    "tags": []
   },
   "outputs": [],
   "source": [
    "import pandas as pd\n",
    "from sklearn.cluster import KMeans\n",
    "from sklearn.preprocessing import StandardScaler"
   ]
  },
  {
   "cell_type": "code",
   "execution_count": 2,
   "id": "f5f281ce",
   "metadata": {
    "execution": {
     "iopub.execute_input": "2025-06-05T09:39:35.994824Z",
     "iopub.status.busy": "2025-06-05T09:39:35.994824Z",
     "iopub.status.idle": "2025-06-05T09:39:36.864194Z",
     "shell.execute_reply": "2025-06-05T09:39:36.864194Z"
    },
    "papermill": {
     "duration": 0.873902,
     "end_time": "2025-06-05T09:39:36.865571",
     "exception": false,
     "start_time": "2025-06-05T09:39:35.991669",
     "status": "completed"
    },
    "tags": []
   },
   "outputs": [],
   "source": [
    "df = pd.read_csv(\"./data/customer_features_cleaned.csv\")"
   ]
  },
  {
   "cell_type": "code",
   "execution_count": 3,
   "id": "686ec78b",
   "metadata": {
    "execution": {
     "iopub.execute_input": "2025-06-05T09:39:36.869582Z",
     "iopub.status.busy": "2025-06-05T09:39:36.869582Z",
     "iopub.status.idle": "2025-06-05T09:39:36.874807Z",
     "shell.execute_reply": "2025-06-05T09:39:36.874807Z"
    },
    "papermill": {
     "duration": 0.008667,
     "end_time": "2025-06-05T09:39:36.876245",
     "exception": false,
     "start_time": "2025-06-05T09:39:36.867578",
     "status": "completed"
    },
    "tags": []
   },
   "outputs": [
    {
     "name": "stdout",
     "output_type": "stream",
     "text": [
      "['Invoice', 'StockCode', 'Description', 'Quantity', 'InvoiceDate', 'Price', 'Customer ID', 'Country', 'TotalPrice', 'Year', 'Month', 'Day', 'Hour', 'Weekday', 'DateOnly', 'Revenue']\n"
     ]
    }
   ],
   "source": [
    "print(df.columns.tolist())\n"
   ]
  },
  {
   "cell_type": "code",
   "execution_count": 4,
   "id": "f2ee7836",
   "metadata": {
    "execution": {
     "iopub.execute_input": "2025-06-05T09:39:36.880503Z",
     "iopub.status.busy": "2025-06-05T09:39:36.879243Z",
     "iopub.status.idle": "2025-06-05T09:39:37.486506Z",
     "shell.execute_reply": "2025-06-05T09:39:37.486506Z"
    },
    "papermill": {
     "duration": 0.609277,
     "end_time": "2025-06-05T09:39:37.487523",
     "exception": false,
     "start_time": "2025-06-05T09:39:36.878246",
     "status": "completed"
    },
    "tags": []
   },
   "outputs": [],
   "source": [
    "# Chuẩn hóa tên cột\n",
    "df.columns = df.columns.str.strip()\n",
    "\n",
    "# Tính TotalRevenue nếu chưa có\n",
    "df['TotalRevenue'] = df['Quantity'] * df['Price']\n",
    "\n",
    "# Gom nhóm theo StockCode\n",
    "stock_df = df.groupby('StockCode').agg(\n",
    "    total_quantity=('Quantity', 'sum'),\n",
    "    total_revenue=('TotalRevenue', 'sum'),\n",
    "    avg_price=('Price', 'mean'),\n",
    "    num_customers=('Customer ID', pd.Series.nunique),\n",
    "    num_invoices=('Invoice', pd.Series.nunique),\n",
    "    num_countries=('Country', pd.Series.nunique),\n",
    ").reset_index()\n",
    "\n",
    "# Tính return_rate\n",
    "returns = df[df['Quantity'] < 0].groupby('StockCode')['Quantity'].count()\n",
    "total = df.groupby('StockCode')['Quantity'].count()\n"
   ]
  },
  {
   "cell_type": "code",
   "execution_count": 5,
   "id": "f858c7ff",
   "metadata": {
    "execution": {
     "iopub.execute_input": "2025-06-05T09:39:37.493516Z",
     "iopub.status.busy": "2025-06-05T09:39:37.492516Z",
     "iopub.status.idle": "2025-06-05T09:39:39.877294Z",
     "shell.execute_reply": "2025-06-05T09:39:39.877294Z"
    },
    "papermill": {
     "duration": 2.388034,
     "end_time": "2025-06-05T09:39:39.878548",
     "exception": false,
     "start_time": "2025-06-05T09:39:37.490514",
     "status": "completed"
    },
    "tags": []
   },
   "outputs": [
    {
     "data": {
      "image/png": "[encoded data removed]",
      "text/plain": [
       "<Figure size 640x480 with 1 Axes>"
      ]
     },
     "metadata": {},
     "output_type": "display_data"
    }
   ],
   "source": [
    "from sklearn.preprocessing import StandardScaler\n",
    "from sklearn.cluster import KMeans\n",
    "import matplotlib.pyplot as plt\n",
    "\n",
    "# Chọn feature để phân cụm\n",
    "features = ['total_quantity', 'total_revenue', 'avg_price', 'num_customers', 'num_invoices']\n",
    "X = stock_df[features]\n",
    "\n",
    "# Chuẩn hóa\n",
    "scaler = StandardScaler()\n",
    "X_scaled = scaler.fit_transform(X)\n",
    "\n",
    "# Elbow method để chọn số cụm k\n",
    "wcss = []\n",
    "for k in range(2, 10):\n",
    "    kmeans = KMeans(n_clusters=k, random_state=42)\n",
    "    kmeans.fit(X_scaled)\n",
    "    wcss.append(kmeans.inertia_)\n",
    "\n",
    "plt.plot(range(2, 10), wcss, marker='o')\n",
    "plt.xlabel(\"Number of clusters (k)\")\n",
    "plt.ylabel(\"WCSS\")\n",
    "plt.title(\"Elbow Method\")\n",
    "plt.show()"
   ]
  },
  {
   "cell_type": "code",
   "execution_count": 6,
   "id": "148b4aea",
   "metadata": {
    "execution": {
     "iopub.execute_input": "2025-06-05T09:39:39.882494Z",
     "iopub.status.busy": "2025-06-05T09:39:39.882494Z",
     "iopub.status.idle": "2025-06-05T09:39:39.890108Z",
     "shell.execute_reply": "2025-06-05T09:39:39.890108Z"
    },
    "papermill": {
     "duration": 0.01156,
     "end_time": "2025-06-05T09:39:39.890108",
     "exception": false,
     "start_time": "2025-06-05T09:39:39.878548",
     "status": "completed"
    },
    "tags": []
   },
   "outputs": [],
   "source": [
    "from sklearn.cluster import KMeans\n",
    "\n",
    "kmeans = KMeans(n_clusters=5, random_state=42)\n",
    "stock_df['cluster'] = kmeans.fit_predict(X_scaled)  # X_scaled là dữ liệu đã chuẩn hóa\n"
   ]
  },
  {
   "cell_type": "code",
   "execution_count": 7,
   "id": "472abcaa",
   "metadata": {
    "execution": {
     "iopub.execute_input": "2025-06-05T09:39:39.892113Z",
     "iopub.status.busy": "2025-06-05T09:39:39.892113Z",
     "iopub.status.idle": "2025-06-05T09:39:40.092845Z",
     "shell.execute_reply": "2025-06-05T09:39:40.092845Z"
    },
    "papermill": {
     "duration": 0.201737,
     "end_time": "2025-06-05T09:39:40.093850",
     "exception": false,
     "start_time": "2025-06-05T09:39:39.892113",
     "status": "completed"
    },
    "tags": []
   },
   "outputs": [
    {
     "data": {
      "text/html": [
       "<div>\n",
       "<style scoped>\n",
       "    .dataframe tbody tr th:only-of-type {\n",
       "        vertical-align: middle;\n",
       "    }\n",
       "\n",
       "    .dataframe tbody tr th {\n",
       "        vertical-align: top;\n",
       "    }\n",
       "\n",
       "    .dataframe thead th {\n",
       "        text-align: right;\n",
       "    }\n",
       "</style>\n",
       "<table border=\"1\" class=\"dataframe\">\n",
       "  <thead>\n",
       "    <tr style=\"text-align: right;\">\n",
       "      <th></th>\n",
       "      <th>total_quantity</th>\n",
       "      <th>total_revenue</th>\n",
       "      <th>avg_price</th>\n",
       "      <th>num_customers</th>\n",
       "      <th>num_invoices</th>\n",
       "    </tr>\n",
       "    <tr>\n",
       "      <th>cluster</th>\n",
       "      <th></th>\n",
       "      <th></th>\n",
       "      <th></th>\n",
       "      <th></th>\n",
       "      <th></th>\n",
       "    </tr>\n",
       "  </thead>\n",
       "  <tbody>\n",
       "    <tr>\n",
       "      <th>0</th>\n",
       "      <td>10131.713483</td>\n",
       "      <td>20616.417640</td>\n",
       "      <td>2.706528</td>\n",
       "      <td>530.797753</td>\n",
       "      <td>1117.601124</td>\n",
       "    </tr>\n",
       "    <tr>\n",
       "      <th>1</th>\n",
       "      <td>600.962464</td>\n",
       "      <td>724.553935</td>\n",
       "      <td>1.694009</td>\n",
       "      <td>52.975583</td>\n",
       "      <td>68.457726</td>\n",
       "    </tr>\n",
       "    <tr>\n",
       "      <th>2</th>\n",
       "      <td>3706.185022</td>\n",
       "      <td>6247.635286</td>\n",
       "      <td>2.285438</td>\n",
       "      <td>268.236417</td>\n",
       "      <td>428.146843</td>\n",
       "    </tr>\n",
       "    <tr>\n",
       "      <th>3</th>\n",
       "      <td>34497.714286</td>\n",
       "      <td>82089.402857</td>\n",
       "      <td>2.993349</td>\n",
       "      <td>1092.285714</td>\n",
       "      <td>3041.428571</td>\n",
       "    </tr>\n",
       "    <tr>\n",
       "      <th>4</th>\n",
       "      <td>235.978452</td>\n",
       "      <td>1345.253311</td>\n",
       "      <td>6.239402</td>\n",
       "      <td>50.719882</td>\n",
       "      <td>67.860921</td>\n",
       "    </tr>\n",
       "  </tbody>\n",
       "</table>\n",
       "</div>"
      ],
      "text/plain": [
       "         total_quantity  total_revenue  avg_price  num_customers  num_invoices\n",
       "cluster                                                                       \n",
       "0          10131.713483   20616.417640   2.706528     530.797753   1117.601124\n",
       "1            600.962464     724.553935   1.694009      52.975583     68.457726\n",
       "2           3706.185022    6247.635286   2.285438     268.236417    428.146843\n",
       "3          34497.714286   82089.402857   2.993349    1092.285714   3041.428571\n",
       "4            235.978452    1345.253311   6.239402      50.719882     67.860921"
      ]
     },
     "metadata": {},
     "output_type": "display_data"
    },
    {
     "data": {
      "image/png": "[encoded data removed]",
      "text/plain": [
       "<Figure size 640x480 with 2 Axes>"
      ]
     },
     "metadata": {},
     "output_type": "display_data"
    }
   ],
   "source": [
    "import seaborn as sns\n",
    "import matplotlib.pyplot as plt\n",
    "\n",
    "# So sánh trung bình các đặc trưng theo từng cụm\n",
    "cluster_profile = stock_df.groupby('cluster')[features].mean()\n",
    "display(cluster_profile)\n",
    "\n",
    "# Vẽ heatmap cho trực quan\n",
    "sns.heatmap(cluster_profile, annot=True, fmt=\".1f\", cmap=\"YlGnBu\")\n",
    "plt.title(\"Cluster Profile\")\n",
    "plt.show()\n"
   ]
  },
  {
   "cell_type": "markdown",
   "id": "30300037",
   "metadata": {
    "papermill": {
     "duration": 0.003041,
     "end_time": "2025-06-05T09:39:40.100254",
     "exception": false,
     "start_time": "2025-06-05T09:39:40.097213",
     "status": "completed"
    },
    "tags": []
   },
   "source": [
    "## Phân Cụm Sản Phẩm Theo Hành Vi Mua Hàng\n",
    "\n",
    "### Mô tả\n",
    "\n",
    "Dữ liệu được phân cụm theo `StockCode` bằng thuật toán **KMeans (k = 5)**. Các đặc trưng đầu vào gồm:\n",
    "\n",
    "- `total_quantity`: Tổng số lượng sản phẩm bán ra\n",
    "- `total_revenue`: Tổng doanh thu\n",
    "- `avg_price`: Giá bán trung bình\n",
    "- `num_customers`: Số khách hàng đã mua\n",
    "- `num_invoices`: Số hóa đơn có chứa sản phẩm\n",
    "\n",
    "---\n",
    "\n",
    "### Hồ sơ cụm (Cluster Profile)\n",
    "\n",
    "| Cụm | Tên gợi ý                   | Phân tích hành vi |\n",
    "|-----|------------------------------|--------------------|\n",
    "| **Cluster 0** | **Sản phẩm phổ thông** | Giá rẻ (~2.7), được mua tương đối nhiều (10k+), doanh thu khá (~20k), khách hàng rộng (530+) |\n",
    "| **Cluster 1** | **Sản phẩm ít phổ biến** | Giá thấp (~1.7), ít khách mua, ít hóa đơn. Có thể là phụ kiện phụ hoặc sản phẩm lỗi thời |\n",
    "| **Cluster 2** | **Sản phẩm tiềm năng** | Mức mua và doanh thu trung bình, giá rẻ, khách hàng tầm trung. Có thể đẩy mạnh marketing để tăng trưởng |\n",
    "| **Cluster 3** | **Sản phẩm chủ lực (best-seller)** | Tốt nhất về mọi mặt: doanh thu (82k), số lượng (34k), khách hàng (~1k), hóa đơn (~3k) |\n",
    "| **Cluster 4** | **Sản phẩm cao cấp / niche** | Giá cao nhất (6.2), rất ít người mua. Có thể là sản phẩm đặc biệt, hàng cao cấp hoặc khó bán |\n",
    "\n",
    "---\n",
    "\n",
    "### Gợi ý chiến lược\n",
    "\n",
    "- **Cluster 3 – Best-seller**:\n",
    "  - Duy trì tồn kho ổn định\n",
    "  - Ưu tiên hiển thị trên web/app\n",
    "  - Tạo combo gắn với sản phẩm này\n",
    "\n",
    "- **Cluster 0 – Phổ thông**:\n",
    "  - Thích hợp để làm quà tặng, bundle, bán kèm\n",
    "\n",
    "- **Cluster 2 – Tiềm năng**:\n",
    "  - Khai thác thêm qua remarketing hoặc khuyến mãi nhẹ\n",
    "\n",
    "- **Cluster 1 – Ít phổ biến**:\n",
    "  - Cân nhắc loại bỏ, hoặc gắn trong flash sale/clearance\n",
    "\n",
    "- **Cluster 4 – Cao cấp**:\n",
    "  - Định vị thương hiệu rõ ràng hơn, marketing hướng cá nhân hóa\n",
    "\n",
    "---\n",
    "\n",
    "### Ghi chú\n",
    "- Các cụm được phân tách rõ theo giá trị và quy mô hành vi mua.\n",
    "- `avg_price` giúp nhận diện được cụm sản phẩm cao cấp (cluster 4).\n",
    "- `num_customers` và `num_invoices` là chỉ số quan trọng để xác định độ phổ biến của sản phẩm.\n",
    "\n",
    "---\n"
   ]
  },
  {
   "cell_type": "code",
   "execution_count": 8,
   "id": "bf9e8a62",
   "metadata": {
    "execution": {
     "iopub.execute_input": "2025-06-05T09:39:40.105196Z",
     "iopub.status.busy": "2025-06-05T09:39:40.103566Z",
     "iopub.status.idle": "2025-06-05T09:39:40.109417Z",
     "shell.execute_reply": "2025-06-05T09:39:40.109417Z"
    },
    "papermill": {
     "duration": 0.008163,
     "end_time": "2025-06-05T09:39:40.109417",
     "exception": false,
     "start_time": "2025-06-05T09:39:40.101254",
     "status": "completed"
    },
    "tags": []
   },
   "outputs": [],
   "source": [
    "# Gán nhãn cụm bằng tiếng Anh dựa trên phân tích\n",
    "cluster_labels = {\n",
    "    0: \"Mid-range Popular Product\",\n",
    "    1: \"Low-demand Product\",\n",
    "    2: \"Potential Product\",\n",
    "    3: \"Bestseller Product\",\n",
    "    4: \"High-end Niche Product\"\n",
    "}\n",
    "\n",
    "stock_df['cluster_label'] = stock_df['cluster'].map(cluster_labels)"
   ]
  },
  {
   "cell_type": "code",
   "execution_count": 9,
   "id": "a3fcea59",
   "metadata": {
    "execution": {
     "iopub.execute_input": "2025-06-05T09:39:40.109417Z",
     "iopub.status.busy": "2025-06-05T09:39:40.109417Z",
     "iopub.status.idle": "2025-06-05T09:39:40.133701Z",
     "shell.execute_reply": "2025-06-05T09:39:40.133701Z"
    },
    "papermill": {
     "duration": 0.024284,
     "end_time": "2025-06-05T09:39:40.133701",
     "exception": false,
     "start_time": "2025-06-05T09:39:40.109417",
     "status": "completed"
    },
    "tags": []
   },
   "outputs": [],
   "source": [
    "stock_df.to_csv('./data/product_clustering.csv')"
   ]
  }
 ],
 "metadata": {
  "kernelspec": {
   "display_name": "env",
   "language": "python",
   "name": "python3"
  },
  "language_info": {
   "codemirror_mode": {
    "name": "ipython",
    "version": 3
   },
   "file_extension": ".py",
   "mimetype": "text/x-python",
   "name": "python",
   "nbconvert_exporter": "python",
   "pygments_lexer": "ipython3",
   "version": "3.11.9"
  },
  "papermill": {
   "default_parameters": {},
   "duration": 8.893394,
   "end_time": "2025-06-05T09:39:40.584076",
   "environment_variables": {},
   "exception": null,
   "input_path": "4_clustering.ipynb",
   "output_path": "4_clustering.ipynb",
   "parameters": {},
   "start_time": "2025-06-05T09:39:31.690682",
   "version": "2.6.0"
  }
 },
 "nbformat": 4,
 "nbformat_minor": 5
}